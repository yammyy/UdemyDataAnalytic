{
 "cells": [
  {
   "cell_type": "markdown",
   "metadata": {},
   "source": [
    "# Module 2: Control Flow Assignments\n",
    "## Lesson 2.1: Conditional Statements\n",
    "### Assignment 1: Simple if Statement\n",
    "\n",
    "Write a program that asks the user to input a number and prints whether the number is positive.\n"
   ]
  },
  {
   "cell_type": "code",
   "execution_count": 4,
   "id": "542525ff",
   "metadata": {},
   "outputs": [
    {
     "name": "stdout",
     "output_type": "stream",
     "text": [
      "4  is positive\n"
     ]
    }
   ],
   "source": [
    "number=int(input(\"Input a number\"))\n",
    "if number>0:\n",
    "    print(number,\" is positive\")"
   ]
  },
  {
   "cell_type": "markdown",
   "id": "fb648eea",
   "metadata": {},
   "source": [
    "### Assignment 2: if-else Statement\n",
    "\n",
    "Write a program that asks the user to input a number and prints whether the number is positive or negative."
   ]
  },
  {
   "cell_type": "code",
   "execution_count": 5,
   "id": "a6ef3250",
   "metadata": {},
   "outputs": [
    {
     "name": "stdout",
     "output_type": "stream",
     "text": [
      "-4  is negative\n"
     ]
    }
   ],
   "source": [
    "number=int(input(\"Input a number\"))\n",
    "if number>0:\n",
    "    print(number,\" is positive\")\n",
    "else:\n",
    "    print(number,\" is negative\")"
   ]
  },
  {
   "cell_type": "markdown",
   "id": "39447630",
   "metadata": {},
   "source": [
    "### Assignment 3: if-elif-else Statement\n",
    "\n",
    "Write a program that asks the user to input a number and prints whether the number is positive, negative, or zero."
   ]
  },
  {
   "cell_type": "code",
   "execution_count": 6,
   "id": "eae8593a",
   "metadata": {},
   "outputs": [
    {
     "name": "stdout",
     "output_type": "stream",
     "text": [
      "0 is zero\n"
     ]
    }
   ],
   "source": [
    "number=int(input(\"Input a number\"))\n",
    "if number>0:\n",
    "    print(number,\" is positive\")\n",
    "elif number<0:\n",
    "    print(number,\" is negative\")\n",
    "else:\n",
    "    print(number,\"is zero\")"
   ]
  },
  {
   "cell_type": "markdown",
   "id": "31f55226",
   "metadata": {},
   "source": [
    "### Assignment 4: Nested if Statement\n",
    "\n",
    "Write a program that asks the user to input a number and prints whether the number is positive and even, positive and odd, or negative."
   ]
  },
  {
   "cell_type": "code",
   "execution_count": 8,
   "id": "bda0e38d",
   "metadata": {},
   "outputs": [
    {
     "name": "stdout",
     "output_type": "stream",
     "text": [
      "0  is negative or zero\n"
     ]
    }
   ],
   "source": [
    "number=int(input(\"Input a number\"))\n",
    "if number>0:\n",
    "    if number%2==0:\n",
    "        print(number,\" is positive and even\")\n",
    "    else:\n",
    "        print(number,\" is positive and odd\")\n",
    "else:\n",
    "    print(number,\" is negative or zero\")"
   ]
  },
  {
   "cell_type": "markdown",
   "id": "9086247f",
   "metadata": {},
   "source": [
    "## Lesson 2.2: Loops\n",
    "### Assignment 5: for Loop\n",
    "\n",
    "Write a program that prints all the numbers from 1 to 10 using a for loop."
   ]
  },
  {
   "cell_type": "code",
   "execution_count": 10,
   "id": "be827a40",
   "metadata": {},
   "outputs": [
    {
     "name": "stdout",
     "output_type": "stream",
     "text": [
      "1\n",
      "2\n",
      "3\n",
      "4\n",
      "5\n",
      "6\n",
      "7\n",
      "8\n",
      "9\n",
      "10\n"
     ]
    }
   ],
   "source": [
    "for i in range(1,10+1):\n",
    "    print(i)"
   ]
  },
  {
   "cell_type": "markdown",
   "id": "eb3cbdad",
   "metadata": {},
   "source": [
    "### Assignment 6: while Loop\n",
    "\n",
    "Write a program that prints all the numbers from 1 to 10 using a while loop."
   ]
  },
  {
   "cell_type": "code",
   "execution_count": 13,
   "id": "370a6f30",
   "metadata": {},
   "outputs": [
    {
     "name": "stdout",
     "output_type": "stream",
     "text": [
      "1\n",
      "2\n",
      "3\n",
      "4\n",
      "5\n",
      "6\n",
      "7\n",
      "8\n",
      "9\n",
      "10\n"
     ]
    }
   ],
   "source": [
    "i=1\n",
    "while i<10+1:\n",
    "    print(i)\n",
    "    i+=1"
   ]
  },
  {
   "cell_type": "markdown",
   "id": "1f5dfba7",
   "metadata": {},
   "source": [
    "### Assignment 7: Nested Loops\n",
    "\n",
    "Write a program that prints a 5x5 grid of asterisks (*) using nested loops."
   ]
  },
  {
   "cell_type": "code",
   "execution_count": 17,
   "id": "fc26cc63",
   "metadata": {},
   "outputs": [
    {
     "name": "stdout",
     "output_type": "stream",
     "text": [
      "*****\n",
      "*****\n",
      "*****\n",
      "*****\n",
      "*****\n"
     ]
    }
   ],
   "source": [
    "for i in range(1,6):\n",
    "    s=\"\"\n",
    "    for j in range(1,6):\n",
    "        s=s+\"*\"\n",
    "    print(s)"
   ]
  },
  {
   "cell_type": "markdown",
   "id": "1b168eb3",
   "metadata": {},
   "source": [
    "### Assignment 8: break Statement\n",
    "\n",
    "Write a program that asks the user to input numbers until they input 0. The program should print the sum of all the input numbers."
   ]
  },
  {
   "cell_type": "code",
   "execution_count": 7,
   "id": "62699296",
   "metadata": {},
   "outputs": [
    {
     "name": "stdout",
     "output_type": "stream",
     "text": [
      "+1+1+1+0  =  3\n"
     ]
    }
   ],
   "source": [
    "#I don't think break is needed here\n",
    "a=9\n",
    "summa=0\n",
    "summa_str=\"\"\n",
    "while a!=0:\n",
    "    a=int(input())\n",
    "    summa_str+=\"+\"+str(a)\n",
    "    summa+=a\n",
    "print(summa_str,\" = \",summa)"
   ]
  },
  {
   "cell_type": "code",
   "execution_count": 5,
   "id": "0826545c",
   "metadata": {},
   "outputs": [
    {
     "name": "stdout",
     "output_type": "stream",
     "text": [
      "+1+1+1+0  =  3\n"
     ]
    }
   ],
   "source": [
    "summa=0\n",
    "summa_str=\"\"\n",
    "while True:\n",
    "    a=int(input())\n",
    "    summa+=a\n",
    "    summa_str+=\"+\"+str(a)\n",
    "    if a==0:\n",
    "        break\n",
    "print(summa_str,\" = \",summa)"
   ]
  },
  {
   "cell_type": "markdown",
   "id": "055d5b3d",
   "metadata": {},
   "source": [
    "### Assignment 9: continue Statement\n",
    "\n",
    "Write a program that prints all the numbers from 1 to 10 except 5 using a for loop and continue statement."
   ]
  },
  {
   "cell_type": "code",
   "execution_count": 9,
   "id": "ffe2a627",
   "metadata": {},
   "outputs": [
    {
     "name": "stdout",
     "output_type": "stream",
     "text": [
      "1\n",
      "2\n",
      "3\n",
      "4\n",
      "6\n",
      "7\n",
      "8\n",
      "9\n",
      "10\n"
     ]
    }
   ],
   "source": [
    "for i in range(1,11):\n",
    "    if i==5:\n",
    "        continue\n",
    "    print(i)"
   ]
  },
  {
   "cell_type": "code",
   "execution_count": 10,
   "id": "ca5c4797",
   "metadata": {},
   "outputs": [
    {
     "name": "stdout",
     "output_type": "stream",
     "text": [
      "1\n",
      "2\n",
      "3\n",
      "4\n",
      "6\n",
      "7\n",
      "8\n",
      "9\n",
      "10\n"
     ]
    }
   ],
   "source": [
    "#Without continue\n",
    "for i in range(1,11):\n",
    "    if i!=5:\n",
    "        print(i)"
   ]
  },
  {
   "cell_type": "markdown",
   "id": "aa7fe4bf",
   "metadata": {},
   "source": [
    "### Assignment 10: pass Statement\n",
    "\n",
    "Write a program that defines an empty function using the pass statement."
   ]
  },
  {
   "cell_type": "code",
   "execution_count": 15,
   "id": "41e4599a",
   "metadata": {},
   "outputs": [
    {
     "name": "stdout",
     "output_type": "stream",
     "text": [
      "I was empty\n"
     ]
    }
   ],
   "source": [
    "def my_function():\n",
    "    pass\n",
    "\n",
    "my_function()\n",
    "print(\"I was empty\")"
   ]
  },
  {
   "cell_type": "markdown",
   "id": "33f2ca2f",
   "metadata": {},
   "source": [
    "### Assignment 11: Combining Loops and Conditionals\n",
    "\n",
    "Write a program that asks the user to input a number and prints all the even numbers from 1 to that number using a for loop."
   ]
  },
  {
   "cell_type": "code",
   "execution_count": 20,
   "id": "dc62f4fc",
   "metadata": {},
   "outputs": [
    {
     "name": "stdout",
     "output_type": "stream",
     "text": [
      "2\n",
      "4\n"
     ]
    }
   ],
   "source": [
    "stop_n=int(input(\"input a number\"))\n",
    "for i in range(1,stop_n+1):\n",
    "    if i%2==0:\n",
    "        print(i)"
   ]
  },
  {
   "cell_type": "markdown",
   "id": "232c3899",
   "metadata": {},
   "source": [
    "### Assignment 12: Factorial Calculation\n",
    "\n",
    "Write a program that calculates the factorial of a number input by the user using a while loop."
   ]
  },
  {
   "cell_type": "code",
   "execution_count": 23,
   "id": "6d54ba1b",
   "metadata": {},
   "outputs": [
    {
     "name": "stdout",
     "output_type": "stream",
     "text": [
      "6\n"
     ]
    }
   ],
   "source": [
    "n=int(input(\"n!\"))\n",
    "i=1\n",
    "factorial=1\n",
    "while i<=n:\n",
    "    factorial*=i\n",
    "    i+=1\n",
    "print(factorial)"
   ]
  },
  {
   "cell_type": "markdown",
   "id": "8bd4e0df",
   "metadata": {},
   "source": [
    "### Assignment 13: Sum of Digits\n",
    "\n",
    "Write a program that calculates the sum of the digits of a number input by the user using a while loop."
   ]
  },
  {
   "cell_type": "code",
   "execution_count": 28,
   "id": "2eb8f521",
   "metadata": {},
   "outputs": [
    {
     "name": "stdout",
     "output_type": "stream",
     "text": [
      "3\n"
     ]
    }
   ],
   "source": [
    "number=input()\n",
    "i=0\n",
    "summa=0\n",
    "while i<len(number):\n",
    "    digit=int(number[i])\n",
    "    summa+=digit\n",
    "    i+=1\n",
    "print(summa)\n"
   ]
  },
  {
   "cell_type": "markdown",
   "id": "b9896510",
   "metadata": {},
   "source": [
    "### Assignment 14: Prime Number Check\n",
    "\n",
    "Write a program that checks if a number input by the user is a prime number using a for loop."
   ]
  },
  {
   "cell_type": "code",
   "execution_count": 34,
   "id": "f091f3bf",
   "metadata": {},
   "outputs": [
    {
     "name": "stdout",
     "output_type": "stream",
     "text": [
      "Not prime number\n"
     ]
    }
   ],
   "source": [
    "n=int(input())\n",
    "is_prime=True\n",
    "for i in range(2,n):\n",
    "    if n%i==0:\n",
    "        is_prime=False\n",
    "if is_prime:\n",
    "    print(\"Prime number\")\n",
    "else:\n",
    "    print(\"Not prime number\")"
   ]
  },
  {
   "cell_type": "markdown",
   "id": "2821e01b",
   "metadata": {},
   "source": [
    "### Assignment 15: Fibonacci Sequence\n",
    "\n",
    "Write a program that prints the first n Fibonacci numbers, where n is input by the user."
   ]
  },
  {
   "cell_type": "code",
   "execution_count": 39,
   "id": "1d2b91bd",
   "metadata": {},
   "outputs": [
    {
     "name": "stdout",
     "output_type": "stream",
     "text": [
      "0\n",
      "1\n",
      "1\n",
      "2\n",
      "3\n",
      "5\n",
      "8\n",
      "13\n",
      "21\n",
      "34\n"
     ]
    }
   ],
   "source": [
    "n=int(input())\n",
    "fibonacci1=0\n",
    "print(fibonacci1)\n",
    "fibonacci2=1\n",
    "print(fibonacci2)\n",
    "for i in range(2,n):\n",
    "    fibonacci=fibonacci1+fibonacci2\n",
    "    print(fibonacci)\n",
    "    fibonacci1=fibonacci2\n",
    "    fibonacci2=fibonacci"
   ]
  }
 ],
 "metadata": {
  "kernelspec": {
   "display_name": "Python 3",
   "language": "python",
   "name": "python3"
  },
  "language_info": {
   "codemirror_mode": {
    "name": "ipython",
    "version": 3
   },
   "file_extension": ".py",
   "mimetype": "text/x-python",
   "name": "python",
   "nbconvert_exporter": "python",
   "pygments_lexer": "ipython3",
   "version": "3.12.0"
  }
 },
 "nbformat": 4,
 "nbformat_minor": 5
}
