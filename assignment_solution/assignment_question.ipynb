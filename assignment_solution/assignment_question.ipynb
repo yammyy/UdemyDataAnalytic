{
 "cells": [
  {
   "cell_type": "markdown",
   "metadata": {},
   "source": [
    "# Lesson 1.2: Python Basics\n",
    "## Topics Covered:\n",
    "- Syntax and Semantics\n",
    "- Variables and Data Types\n",
    "- Basic Operators (Arithmetic, Comparison, Logical)\n"
   ]
  },
  {
   "cell_type": "markdown",
   "metadata": {},
   "source": [
    "## 1. Syntax and Semantics\n",
    "\n",
    "**Question 1:** Write a Python program to print \"Hello, World!\"."
   ]
  },
  {
   "cell_type": "code",
   "execution_count": 1,
   "metadata": {},
   "outputs": [
    {
     "name": "stdout",
     "output_type": "stream",
     "text": [
      "Hello, World!\n"
     ]
    }
   ],
   "source": [
    "print(\"Hello, World!\")"
   ]
  },
  {
   "cell_type": "markdown",
   "metadata": {},
   "source": [
    "**Question 2:** Write a Python program that takes a user input and prints it."
   ]
  },
  {
   "cell_type": "code",
   "execution_count": 2,
   "metadata": {},
   "outputs": [
    {
     "name": "stdout",
     "output_type": "stream",
     "text": [
      "Hello!\n"
     ]
    }
   ],
   "source": [
    "u_input=input()\n",
    "print(u_input)"
   ]
  },
  {
   "cell_type": "markdown",
   "metadata": {},
   "source": [
    "**Question 3:** Write a Python program to check if a number is positive, negative, or zero."
   ]
  },
  {
   "cell_type": "code",
   "execution_count": 3,
   "metadata": {},
   "outputs": [
    {
     "name": "stdout",
     "output_type": "stream",
     "text": [
      "positive\n"
     ]
    }
   ],
   "source": [
    "a=int(input())\n",
    "if a>0:\n",
    "    print(\"positive\")\n",
    "if a<0:\n",
    "    print(\"negative\")\n",
    "if a==0:\n",
    "    print(\"zero\")"
   ]
  },
  {
   "cell_type": "markdown",
   "metadata": {},
   "source": [
    "**Question 4:** Write a Python program to find the largest of three numbers."
   ]
  },
  {
   "cell_type": "code",
   "execution_count": 5,
   "metadata": {},
   "outputs": [
    {
     "name": "stdout",
     "output_type": "stream",
     "text": [
      "3\n"
     ]
    }
   ],
   "source": [
    "n1=int(input());n2=int(input());n3=int(input())\n",
    "if n1>n2:\n",
    "    if n3>n1:\n",
    "        print(n3)\n",
    "    else:\n",
    "        print(n1)\n",
    "elif n2>n3:\n",
    "    print(n2)\n",
    "else:\n",
    "    print(n3)\n",
    "\n"
   ]
  },
  {
   "cell_type": "markdown",
   "metadata": {},
   "source": [
    "**Question 5:** Write a Python program to calculate the factorial of a number."
   ]
  },
  {
   "cell_type": "code",
   "execution_count": 11,
   "metadata": {},
   "outputs": [
    {
     "name": "stdout",
     "output_type": "stream",
     "text": [
      "24\n"
     ]
    }
   ],
   "source": [
    "n=int(input())\n",
    "factorial=1\n",
    "for i in range(2,n+1):\n",
    "    factorial=factorial*i\n",
    "print(factorial)"
   ]
  },
  {
   "cell_type": "markdown",
   "metadata": {},
   "source": [
    "## 2. Variables and Data Types\n",
    "\n",
    "**Question 6:** Create variables of different data types: integer, float, string, and boolean. Print their values and types."
   ]
  },
  {
   "cell_type": "code",
   "execution_count": 15,
   "metadata": {},
   "outputs": [
    {
     "name": "stdout",
     "output_type": "stream",
     "text": [
      "int 1 <class 'int'>\n",
      "float 1.0 <class 'float'>\n",
      "str 1 <class 'str'>\n",
      "bool True <class 'bool'>\n"
     ]
    }
   ],
   "source": [
    "a=1\n",
    "b=1.0\n",
    "c=\"1\"\n",
    "d=True\n",
    "print(\"int\",a,type(a))\n",
    "print(\"float\",b,type(b))\n",
    "print(\"str\",c,type(c))\n",
    "print(\"bool\",d,type(d))"
   ]
  },
  {
   "cell_type": "markdown",
   "metadata": {},
   "source": [
    "**Question 7:** Write a Python program to swap the values of two variables."
   ]
  },
  {
   "cell_type": "code",
   "execution_count": 16,
   "metadata": {},
   "outputs": [
    {
     "name": "stdout",
     "output_type": "stream",
     "text": [
      "1   2\n",
      "2   1\n"
     ]
    }
   ],
   "source": [
    "a=input()\n",
    "b=input()\n",
    "print(a,\" \",b)\n",
    "c=b\n",
    "b=a\n",
    "a=c\n",
    "print(a,\" \",b)"
   ]
  },
  {
   "cell_type": "markdown",
   "metadata": {},
   "source": [
    "**Question 8:** Write a Python program to convert Celsius to Fahrenheit."
   ]
  },
  {
   "cell_type": "code",
   "execution_count": 18,
   "metadata": {},
   "outputs": [
    {
     "name": "stdout",
     "output_type": "stream",
     "text": [
      "1 -> 33.8\n"
     ]
    }
   ],
   "source": [
    "t_celsius=int(input())\n",
    "t_fahrenheit=(t_celsius*9/5) + 32\n",
    "print(t_celsius,\"->\",t_fahrenheit)"
   ]
  },
  {
   "cell_type": "markdown",
   "metadata": {},
   "source": [
    "**Question 9:** Write a Python program to concatenate two strings."
   ]
  },
  {
   "cell_type": "code",
   "execution_count": 20,
   "metadata": {},
   "outputs": [
    {
     "name": "stdout",
     "output_type": "stream",
     "text": [
      "Hello World!\n"
     ]
    }
   ],
   "source": [
    "a=input()\n",
    "b=input()\n",
    "res=a+b\n",
    "print(res)"
   ]
  },
  {
   "cell_type": "markdown",
   "metadata": {},
   "source": [
    "**Question 10:** Write a Python program to check if a variable is of a specific data type."
   ]
  },
  {
   "cell_type": "code",
   "execution_count": 21,
   "metadata": {},
   "outputs": [
    {
     "name": "stdout",
     "output_type": "stream",
     "text": [
      "Variable is int\n"
     ]
    }
   ],
   "source": [
    "a=10\n",
    "if type(a)==int:\n",
    "    print(\"Variable is int\")\n",
    "else:\n",
    "    print(\"Variable is not int\")"
   ]
  },
  {
   "cell_type": "markdown",
   "metadata": {},
   "source": [
    "## 3. Basic Operators (Arithmetic, Comparison, Logical)\n",
    "\n",
    "**Question 11:** Write a Python program to perform arithmetic operations: addition, subtraction, multiplication, and division."
   ]
  },
  {
   "cell_type": "code",
   "execution_count": 23,
   "metadata": {},
   "outputs": [
    {
     "name": "stdout",
     "output_type": "stream",
     "text": [
      "a+b= 10\n",
      "a-b= 0\n",
      "a*b= 25\n",
      "a/b= 1.0\n"
     ]
    }
   ],
   "source": [
    "a=5\n",
    "b=5\n",
    "\n",
    "res_sum=a+b\n",
    "res_substraction=a-b\n",
    "res_multiplication=a*b\n",
    "res_division=a/b\n",
    "\n",
    "print(\"a+b=\",res_sum)\n",
    "print(\"a-b=\",res_substraction)\n",
    "print(\"a*b=\",res_multiplication)\n",
    "print(\"a/b=\",res_division)\n",
    "\n"
   ]
  },
  {
   "cell_type": "markdown",
   "metadata": {},
   "source": [
    "**Question 12:** Write a Python program to demonstrate comparison operators: equal to, not equal to, greater than, less than."
   ]
  },
  {
   "cell_type": "code",
   "execution_count": 24,
   "metadata": {},
   "outputs": [
    {
     "name": "stdout",
     "output_type": "stream",
     "text": [
      "a==b True\n",
      "a<>b False\n",
      "a>b False\n",
      "a<b False\n"
     ]
    }
   ],
   "source": [
    "a=5;b=5\n",
    "\n",
    "equal_to=a==b\n",
    "not_equal_to=a!=b\n",
    "greater_than=a>b\n",
    "lesser_than=a<b\n",
    "\n",
    "print(\"a==b\",equal_to)\n",
    "print(\"a<>b\",not_equal_to)\n",
    "print(\"a>b\",greater_than)\n",
    "print(\"a<b\",lesser_than)\n"
   ]
  },
  {
   "cell_type": "markdown",
   "metadata": {},
   "source": [
    "**Question 13:** Write a Python program to demonstrate logical operators: and, or, not."
   ]
  },
  {
   "cell_type": "code",
   "execution_count": 28,
   "metadata": {},
   "outputs": [
    {
     "name": "stdout",
     "output_type": "stream",
     "text": [
      "True  and  False = False\n",
      "True  or  False = True\n",
      "not  False = True\n"
     ]
    }
   ],
   "source": [
    "is_true1=True\n",
    "is_true2=False\n",
    "\n",
    "print(is_true1,\" and \",is_true2,\"=\",is_true1 and is_true2)\n",
    "print(is_true1,\" or \",is_true2,\"=\",is_true1 or is_true2)\n",
    "print(\"not \",is_true2,\"=\",not is_true2)"
   ]
  },
  {
   "cell_type": "markdown",
   "metadata": {},
   "source": [
    "**Question 14:** Write a Python program to calculate the square of a number."
   ]
  },
  {
   "cell_type": "code",
   "execution_count": 29,
   "metadata": {},
   "outputs": [
    {
     "name": "stdout",
     "output_type": "stream",
     "text": [
      "a^2= 4\n"
     ]
    }
   ],
   "source": [
    "a=int(input())\n",
    "\n",
    "res=a*a\n",
    "\n",
    "print(\"a^2=\",res)"
   ]
  },
  {
   "cell_type": "markdown",
   "metadata": {},
   "source": [
    "**Question 15:** Write a Python program to check if a number is even or odd."
   ]
  },
  {
   "cell_type": "code",
   "execution_count": 31,
   "metadata": {},
   "outputs": [
    {
     "name": "stdout",
     "output_type": "stream",
     "text": [
      "Number is even\n"
     ]
    }
   ],
   "source": [
    "a=int(input())\n",
    "if a%2==0:\n",
    "    print(\"Number is even\")\n",
    "else:\n",
    "    print(\"Number is odd\")"
   ]
  },
  {
   "cell_type": "markdown",
   "metadata": {},
   "source": [
    "**Question 16:** Write a Python program to find the sum of the first n natural numbers."
   ]
  },
  {
   "cell_type": "code",
   "execution_count": 36,
   "metadata": {},
   "outputs": [
    {
     "name": "stdout",
     "output_type": "stream",
     "text": [
      "10\n"
     ]
    }
   ],
   "source": [
    "stop_n=int(input())\n",
    "res=0\n",
    "for i in range(1,stop_n+1):\n",
    "    res=res+i\n",
    "print(res)"
   ]
  },
  {
   "cell_type": "markdown",
   "metadata": {},
   "source": [
    "**Question 17:** Write a Python program to check if a year is a leap year."
   ]
  },
  {
   "cell_type": "code",
   "execution_count": 42,
   "metadata": {},
   "outputs": [
    {
     "name": "stdout",
     "output_type": "stream",
     "text": [
      "Leap year\n"
     ]
    }
   ],
   "source": [
    "'''\n",
    "The rule is simple: if the year is divisible by 4, it is a leap year,\n",
    "unless it is also divisible by 100, in which case it is not,\n",
    "unless it is also divisible by 400, in which case it is. \n",
    "'''\n",
    "year=int(input())\n",
    "if year%400==0:\n",
    "    print(\"Leap year\")\n",
    "elif year%100==0:\n",
    "    print(\"Not leap year\")\n",
    "elif year%4==0:\n",
    "    print(\"Leap year\")\n",
    "else:\n",
    "    print(\"Not leap year\")\n",
    "\n"
   ]
  },
  {
   "cell_type": "markdown",
   "metadata": {},
   "source": [
    "**Question 18:** Write a Python program to reverse a string."
   ]
  },
  {
   "cell_type": "code",
   "execution_count": 43,
   "metadata": {},
   "outputs": [
    {
     "name": "stdout",
     "output_type": "stream",
     "text": [
      "!olleH\n"
     ]
    }
   ],
   "source": [
    "string=input()\n",
    "new_string=\"\"\n",
    "for ch in string:\n",
    "    new_string=ch+new_string\n",
    "print(new_string)"
   ]
  },
  {
   "cell_type": "markdown",
   "metadata": {},
   "source": [
    "**Question 19:** Write a Python program to check if a string is a palindrome."
   ]
  },
  {
   "cell_type": "code",
   "execution_count": 50,
   "metadata": {},
   "outputs": [
    {
     "name": "stdout",
     "output_type": "stream",
     "text": [
      "Palindrome\n"
     ]
    }
   ],
   "source": [
    "string=input()\n",
    "new_string=\"\"\n",
    "for ch in string:\n",
    "    new_string=ch+new_string\n",
    "if (string==new_string) and len(string)>1:\n",
    "    print(\"Palindrome\")\n",
    "else:    \n",
    "    print(\"Not palindrome\")"
   ]
  },
  {
   "cell_type": "markdown",
   "metadata": {},
   "source": [
    "**Question 20:** Write a Python program to sort a list of numbers in ascending order."
   ]
  },
  {
   "cell_type": "code",
   "execution_count": 52,
   "metadata": {},
   "outputs": [
    {
     "name": "stdout",
     "output_type": "stream",
     "text": [
      "[4, 3, 2, 1]\n"
     ]
    }
   ],
   "source": [
    "list_of_numbers=[1,2,3,4]\n",
    "reversed_list_of_numbers=[]\n",
    "for number in list_of_numbers:\n",
    "    reversed_list_of_numbers.insert(0,number)\n",
    "print(reversed_list_of_numbers)"
   ]
  }
 ],
 "metadata": {
  "kernelspec": {
   "display_name": "Python 3",
   "language": "python",
   "name": "python3"
  },
  "language_info": {
   "codemirror_mode": {
    "name": "ipython",
    "version": 3
   },
   "file_extension": ".py",
   "mimetype": "text/x-python",
   "name": "python",
   "nbconvert_exporter": "python",
   "pygments_lexer": "ipython3",
   "version": "3.12.0"
  }
 },
 "nbformat": 4,
 "nbformat_minor": 4
}
