{
 "cells": [
  {
   "cell_type": "markdown",
   "id": "75e5f23b",
   "metadata": {},
   "source": [
    "# Module 3: Data Structures Assignments\n",
    "## Lesson 3.1: Lists\n",
    "### Assignment 1: Creating and Accessing Lists\n",
    "\n",
    "Create a list of the first 20 positive integers. Print the list."
   ]
  },
  {
   "cell_type": "code",
   "execution_count": 2,
   "id": "4caa6d70",
   "metadata": {},
   "outputs": [
    {
     "name": "stdout",
     "output_type": "stream",
     "text": [
      "[1, 2, 3, 4, 5, 6, 7, 8, 9, 10, 11, 12, 13, 14, 15, 16, 17, 18, 19, 20]\n"
     ]
    }
   ],
   "source": [
    "nums=[i for i in range(1,21)]\n",
    "print(nums)"
   ]
  },
  {
   "cell_type": "markdown",
   "id": "b4def92a",
   "metadata": {},
   "source": [
    "### Assignment 2: Accessing List Elements\n",
    "\n",
    "Print the first, middle, and last elements of the list created in Assignment 1."
   ]
  },
  {
   "cell_type": "code",
   "execution_count": 14,
   "id": "ab2e2d58",
   "metadata": {},
   "outputs": [
    {
     "name": "stdout",
     "output_type": "stream",
     "text": [
      "1\n",
      "11\n",
      "20\n"
     ]
    }
   ],
   "source": [
    "print(nums[0])\n",
    "print(nums[len(nums)//2])\n",
    "print(nums[-1])"
   ]
  },
  {
   "cell_type": "markdown",
   "id": "94245612",
   "metadata": {},
   "source": [
    "### Assignment 3: List Slicing\n",
    "\n",
    "Print the first five elements, the last five elements, and the elements from index 5 to 15 of the list created in Assignment 1."
   ]
  },
  {
   "cell_type": "code",
   "execution_count": 6,
   "id": "cfe1dab1",
   "metadata": {},
   "outputs": [
    {
     "name": "stdout",
     "output_type": "stream",
     "text": [
      "[1, 2, 3, 4, 5]\n",
      "[6, 7, 8, 9, 10, 11, 12, 13, 14, 15, 16, 17, 18, 19, 20]\n",
      "[6, 7, 8, 9, 10, 11, 12, 13, 14, 15, 16]\n"
     ]
    }
   ],
   "source": [
    "print(nums[:5])\n",
    "print(nums[5:])\n",
    "print(nums[5:16])"
   ]
  },
  {
   "cell_type": "markdown",
   "id": "e4ec51a1",
   "metadata": {},
   "source": [
    "### Assignment 4: List Comprehensions\n",
    "\n",
    "Create a new list containing the squares of the first 10 positive integers using a list comprehension. Print the new list."
   ]
  },
  {
   "cell_type": "code",
   "execution_count": 7,
   "id": "63150c25",
   "metadata": {},
   "outputs": [
    {
     "name": "stdout",
     "output_type": "stream",
     "text": [
      "[1, 4, 9, 16, 25, 36, 49, 64, 81, 100]\n"
     ]
    }
   ],
   "source": [
    "num_squares=[n**2 for n in range(1,11)]\n",
    "print(num_squares)"
   ]
  },
  {
   "cell_type": "markdown",
   "id": "579af7f5",
   "metadata": {},
   "source": [
    "### Assignment 5: Filtering Lists\n",
    "\n",
    "Create a new list containing only the even numbers from the list created in Assignment 1 using a list comprehension. Print the new list."
   ]
  },
  {
   "cell_type": "code",
   "execution_count": 11,
   "id": "63497f88",
   "metadata": {},
   "outputs": [
    {
     "name": "stdout",
     "output_type": "stream",
     "text": [
      "[2, 4, 6, 8, 10, 12, 14, 16, 18, 20]\n"
     ]
    }
   ],
   "source": [
    "even_nums = [num for num in nums if num%2==0]\n",
    "print(even_nums)"
   ]
  },
  {
   "cell_type": "markdown",
   "id": "bfb36718",
   "metadata": {},
   "source": [
    "### Assignment 6: List Methods\n",
    "\n",
    "Create a list of random numbers and sort it in ascending and descending order. Remove the duplicates from the list and print the modified list."
   ]
  },
  {
   "cell_type": "code",
   "execution_count": 26,
   "id": "3dbda281",
   "metadata": {},
   "outputs": [
    {
     "name": "stdout",
     "output_type": "stream",
     "text": [
      "[144, 100, 8, 227, 5, 74, 90, 32, 135]\n",
      "[5, 8, 32, 74, 90, 100, 135, 144, 227]\n",
      "[227, 144, 135, 100, 90, 74, 32, 8, 5]\n"
     ]
    }
   ],
   "source": [
    "import random\n",
    "\n",
    "random_nums=[random.randint(1,255) for i in range(1,10)]\n",
    "print(random_nums)\n",
    "sorted_random_nums=sorted(random_nums)\n",
    "print(sorted_random_nums)\n",
    "reversed_random_nums=sorted_random_nums[::-1]\n",
    "print(reversed_random_nums)\n"
   ]
  },
  {
   "cell_type": "markdown",
   "id": "c0295a15",
   "metadata": {},
   "source": [
    "### Assignment 7: Nested Lists\n",
    "\n",
    "Create a nested list representing a 3x3 matrix and print the matrix. Access and print the element at the second row and third column."
   ]
  },
  {
   "cell_type": "code",
   "execution_count": 36,
   "id": "6ed7b33c",
   "metadata": {},
   "outputs": [
    {
     "name": "stdout",
     "output_type": "stream",
     "text": [
      "[[1, 2, 3], [4, 5, 6], [7, 8, 9]]\n",
      "6\n"
     ]
    }
   ],
   "source": [
    "\n",
    "matrix=[[1,2,3],[4,5,6],[7,8,9]]\n",
    "print(matrix)\n",
    "print(matrix[1][2])"
   ]
  },
  {
   "cell_type": "markdown",
   "id": "f72cdb82",
   "metadata": {},
   "source": [
    "### Assignment 8: List of Dictionaries\n",
    "\n",
    "Create a list of dictionaries where each dictionary represents a student with keys 'name' and 'score'. Sort the list of dictionaries by the 'score' in descending order and print the sorted list."
   ]
  },
  {
   "cell_type": "code",
   "execution_count": 42,
   "id": "515e23f9",
   "metadata": {},
   "outputs": [
    {
     "data": {
      "text/plain": [
       "[{'name': 'Rassel', 'score': 1},\n",
       " {'name': 'Jack', 'score': 5},\n",
       " {'name': 'Rassel', 'score': 9},\n",
       " {'name': 'Rassel', 'score': 12}]"
      ]
     },
     "execution_count": 42,
     "metadata": {},
     "output_type": "execute_result"
    }
   ],
   "source": [
    "dictionaries=[\\\n",
    "    {'name':\"Jack\",'score':5},\\\n",
    "    {'name':\"Rassel\",'score':1},\\\n",
    "    {'name':\"Rassel\",'score':9},\\\n",
    "    {'name':\"Rassel\",'score':12}]\n",
    "#dictionaries.sort(key='score')\n",
    "sorted(dictionaries,key=lambda student:student.__getitem__('score'))"
   ]
  },
  {
   "cell_type": "markdown",
   "id": "d155e7b4",
   "metadata": {},
   "source": [
    "### Assignment 9: Matrix Transposition\n",
    "\n",
    "Write a function that takes a 3x3 matrix (nested list) as input and returns its transpose. Print the original and transposed matrices."
   ]
  },
  {
   "cell_type": "code",
   "execution_count": null,
   "id": "69f763b9",
   "metadata": {},
   "outputs": [
    {
     "name": "stdout",
     "output_type": "stream",
     "text": [
      "[[1, 2, 3], [4, 5, 6], [7, 8, 9]]\n",
      "[[1, 4, 7], [2, 5, 8], [3, 6, 9]]\n"
     ]
    }
   ],
   "source": [
    "\n",
    "orig_matrix=[]\n",
    "for i in range(0,3):\n",
    "    orig_matrix.append([])\n",
    "    for j in range(0,3):\n",
    "        orig_matrix[i].append(int(input(f\"{i},{j}:\")))\n",
    "print(orig_matrix)\n",
    "transponse_matrix=[]\n",
    "for j in orig_matrix[0]:\n",
    "    transponse_matrix.append([])\n",
    "for (j,elem_i) in enumerate(orig_matrix[0]):\n",
    "    for (i,elem_o) in enumerate(orig_matrix):\n",
    "        transponse_matrix[j].append(orig_matrix[i][j])\n",
    "print(transponse_matrix)    "
   ]
  },
  {
   "cell_type": "markdown",
   "id": "b317b989",
   "metadata": {},
   "source": [
    "### Assignment 10: Flattening a Nested List\n",
    "\n",
    "Write a function that takes a nested list and flattens it into a single list. Print the original and flattened lists."
   ]
  },
  {
   "cell_type": "code",
   "execution_count": 64,
   "id": "e0053027",
   "metadata": {},
   "outputs": [
    {
     "name": "stdout",
     "output_type": "stream",
     "text": [
      "[[1, 2, 3], [4, 5, 6], [7, 8, 9]]\n",
      "[1, 2, 3, 4, 5, 6, 7, 8, 9]\n"
     ]
    }
   ],
   "source": [
    "matrix=[[1,2,3],[4,5,6],[7,8,9]]\n",
    "flat_matrix=[element for elem_o in matrix for element in elem_o ]\n",
    "print(matrix)\n",
    "print(flat_matrix)"
   ]
  },
  {
   "cell_type": "markdown",
   "id": "af193eb2",
   "metadata": {},
   "source": [
    "### Assignment 11: List Manipulation\n",
    "\n",
    "Create a list of the first 10 positive integers. Remove the elements at indices 2, 4, and 6, and insert the element '99' at index 5. Print the modified list."
   ]
  },
  {
   "cell_type": "code",
   "execution_count": 69,
   "id": "03b6d5c7",
   "metadata": {},
   "outputs": [
    {
     "name": "stdout",
     "output_type": "stream",
     "text": [
      "[1, 2, 3, 4, 5, 6, 7, 8, 9, 10]\n",
      "[1, 2, 4, '99', 6, 8, 9, 10]\n"
     ]
    }
   ],
   "source": [
    "#It's not clearly defined if index 5 is after removed or before. Removing 4,6 - the same\n",
    "lst=[i for i in range(1,11)]\n",
    "print(lst)\n",
    "lst.pop(6)\n",
    "lst.insert(5,'99')\n",
    "lst.pop(4)\n",
    "lst.pop(2)\n",
    "print(lst)"
   ]
  },
  {
   "cell_type": "markdown",
   "id": "4154d65a",
   "metadata": {},
   "source": [
    "### Assignment 12: List Zipping\n",
    "\n",
    "Create two lists of the same length. Use the `zip` function to combine these lists into a list of tuples and print the result."
   ]
  },
  {
   "cell_type": "code",
   "execution_count": 72,
   "id": "88acb9c5",
   "metadata": {},
   "outputs": [
    {
     "name": "stdout",
     "output_type": "stream",
     "text": [
      "[(1, 4), (2, 5), (3, 6)]\n"
     ]
    }
   ],
   "source": [
    "lst1=[1,2,3]\n",
    "lst2=[4,5,6]\n",
    "zipped_lst=list(zip(lst1,lst2))\n",
    "print(zipped_lst)\n",
    "\n"
   ]
  },
  {
   "cell_type": "markdown",
   "id": "640530f8",
   "metadata": {},
   "source": [
    "### Assignment 13: List Reversal\n",
    "\n",
    "Write a function that takes a list and returns a new list with the elements in reverse order. Print the original and reversed lists."
   ]
  },
  {
   "cell_type": "code",
   "execution_count": 73,
   "id": "fc4c0e12",
   "metadata": {},
   "outputs": [
    {
     "name": "stdout",
     "output_type": "stream",
     "text": [
      "[1, 2, 3]\n",
      "[3, 2, 1]\n"
     ]
    }
   ],
   "source": [
    "orig_lst=[1,2,3]\n",
    "rev_lst=orig_lst[::-1]\n",
    "print(orig_lst)\n",
    "print(rev_lst)"
   ]
  },
  {
   "cell_type": "markdown",
   "id": "ca8159f7",
   "metadata": {},
   "source": [
    "### Assignment 14: List Rotation\n",
    "\n",
    "Write a function that rotates a list by n positions. Print the original and rotated lists."
   ]
  },
  {
   "cell_type": "code",
   "execution_count": 78,
   "id": "a10077d3",
   "metadata": {},
   "outputs": [
    {
     "name": "stdout",
     "output_type": "stream",
     "text": [
      "[5, 1, 2, 3, 4]\n"
     ]
    }
   ],
   "source": [
    "orig_lst=[1,2,3,4,5]\n",
    "n=int(input(\"Rotate by: \"))\n",
    "rotated_list=[]\n",
    "for element in orig_lst[n:]:\n",
    "    rotated_list.append(element)\n",
    "for element in orig_lst[:n]:\n",
    "    rotated_list.append(element)\n",
    "print(rotated_list)"
   ]
  },
  {
   "cell_type": "markdown",
   "metadata": {},
   "source": [
    "### Assignment 15: List Intersection\n",
    "\n",
    "Write a function that takes two lists and returns a new list containing only the elements that are present in both lists. Print the intersected list."
   ]
  },
  {
   "cell_type": "code",
   "execution_count": 83,
   "metadata": {},
   "outputs": [
    {
     "name": "stdout",
     "output_type": "stream",
     "text": [
      "[1, 3, 88]\n"
     ]
    }
   ],
   "source": [
    "lst1=[1,2,3,88]\n",
    "lst2=[3,4,5,1,0,88]\n",
    "intersected_lst=[]\n",
    "for element in lst1:\n",
    "    if element in lst2:\n",
    "        intersected_lst.append(element)\n",
    "print(intersected_lst)"
   ]
  }
 ],
 "metadata": {
  "kernelspec": {
   "display_name": "Python 3",
   "language": "python",
   "name": "python3"
  },
  "language_info": {
   "codemirror_mode": {
    "name": "ipython",
    "version": 3
   },
   "file_extension": ".py",
   "mimetype": "text/x-python",
   "name": "python",
   "nbconvert_exporter": "python",
   "pygments_lexer": "ipython3",
   "version": "3.12.0"
  }
 },
 "nbformat": 4,
 "nbformat_minor": 5
}
