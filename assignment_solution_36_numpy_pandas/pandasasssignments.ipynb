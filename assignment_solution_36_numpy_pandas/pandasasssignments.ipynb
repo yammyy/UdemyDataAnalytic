{
 "cells": [
  {
   "cell_type": "code",
   "execution_count": 155,
   "id": "5ea180d1",
   "metadata": {},
   "outputs": [],
   "source": [
    "import pandas as pd\n",
    "import numpy as np\n",
    "import random as rnd\n",
    "import string"
   ]
  },
  {
   "cell_type": "markdown",
   "id": "171bf729",
   "metadata": {},
   "source": [
    "# Module: Pandas Assignments\n",
    "## Lesson: Pandas\n",
    "### Assignment 1: DataFrame Creation and Indexing\n",
    "\n",
    "1. Create a Pandas DataFrame with 4 columns and 6 rows filled with random integers. Set the index to be the first column."
   ]
  },
  {
   "cell_type": "code",
   "execution_count": 19,
   "id": "e60519d9",
   "metadata": {},
   "outputs": [
    {
     "name": "stdout",
     "output_type": "stream",
     "text": [
      "    0   1   2  3\n",
      "0   2  12   3  3\n",
      "1   7   4  10  6\n",
      "2  12   7  16  4\n",
      "3  16  10  15  9\n",
      "4   9  16  16  2\n",
      "5   7   4   7  9\n",
      "     1   2  3\n",
      "0            \n",
      "2   12   3  3\n",
      "7    4  10  6\n",
      "12   7  16  4\n",
      "16  10  15  9\n",
      "9   16  16  2\n",
      "7    4   7  9\n"
     ]
    }
   ],
   "source": [
    "rows_count=6\n",
    "cols_count=4\n",
    "data_frame=pd.DataFrame(np.random.randint(1,20,(rows_count,cols_count)))\n",
    "print(data_frame)\n",
    "data_frame.set_index(0,inplace=True)\n",
    "print(data_frame)"
   ]
  },
  {
   "cell_type": "markdown",
   "id": "4279974b",
   "metadata": {},
   "source": [
    "2. Create a Pandas DataFrame with columns 'A', 'B', 'C' and index 'X', 'Y', 'Z'. Fill the DataFrame with random integers and access the element at row 'Y' and column 'B'."
   ]
  },
  {
   "cell_type": "code",
   "execution_count": 20,
   "id": "d53bfbf2",
   "metadata": {},
   "outputs": [
    {
     "data": {
      "text/html": [
       "<div>\n",
       "<style scoped>\n",
       "    .dataframe tbody tr th:only-of-type {\n",
       "        vertical-align: middle;\n",
       "    }\n",
       "\n",
       "    .dataframe tbody tr th {\n",
       "        vertical-align: top;\n",
       "    }\n",
       "\n",
       "    .dataframe thead th {\n",
       "        text-align: right;\n",
       "    }\n",
       "</style>\n",
       "<table border=\"1\" class=\"dataframe\">\n",
       "  <thead>\n",
       "    <tr style=\"text-align: right;\">\n",
       "      <th></th>\n",
       "      <th>A</th>\n",
       "      <th>B</th>\n",
       "      <th>C</th>\n",
       "    </tr>\n",
       "  </thead>\n",
       "  <tbody>\n",
       "    <tr>\n",
       "      <th>X</th>\n",
       "      <td>15</td>\n",
       "      <td>10</td>\n",
       "      <td>2</td>\n",
       "    </tr>\n",
       "    <tr>\n",
       "      <th>Y</th>\n",
       "      <td>18</td>\n",
       "      <td>14</td>\n",
       "      <td>2</td>\n",
       "    </tr>\n",
       "    <tr>\n",
       "      <th>Z</th>\n",
       "      <td>10</td>\n",
       "      <td>10</td>\n",
       "      <td>3</td>\n",
       "    </tr>\n",
       "  </tbody>\n",
       "</table>\n",
       "</div>"
      ],
      "text/plain": [
       "    A   B  C\n",
       "X  15  10  2\n",
       "Y  18  14  2\n",
       "Z  10  10  3"
      ]
     },
     "execution_count": 20,
     "metadata": {},
     "output_type": "execute_result"
    }
   ],
   "source": [
    "data_frame=pd.DataFrame(columns=['A','B','C'],index=['X','Y','Z'])\n",
    "data_frame.map(lambda i:np.random.randint(1,20))"
   ]
  },
  {
   "cell_type": "markdown",
   "id": "a96f29a5",
   "metadata": {},
   "source": [
    "### Assignment 2: DataFrame Operations\n",
    "\n",
    "1. Create a Pandas DataFrame with 3 columns and 5 rows filled with random integers. Add a new column that is the product of the first two columns."
   ]
  },
  {
   "cell_type": "code",
   "execution_count": 25,
   "id": "5d11413e",
   "metadata": {},
   "outputs": [
    {
     "name": "stdout",
     "output_type": "stream",
     "text": [
      "    0   1   2\n",
      "0  15   4  19\n",
      "1   7   8  18\n",
      "2   6  18  16\n",
      "3   5  15  16\n",
      "4   9   4  11\n",
      "    0   1   2    3\n",
      "0  15   4  19   60\n",
      "1   7   8  18   56\n",
      "2   6  18  16  108\n",
      "3   5  15  16   75\n",
      "4   9   4  11   36\n"
     ]
    }
   ],
   "source": [
    "cols_count=3\n",
    "rows_count=5\n",
    "data_frame=pd.DataFrame(np.random.randint(1,20,(rows_count,cols_count)))\n",
    "print(data_frame)\n",
    "data_frame[cols_count]=data_frame[0][0:]*data_frame[1][0:]\n",
    "cols_count+=1\n",
    "print(data_frame)"
   ]
  },
  {
   "cell_type": "markdown",
   "id": "f30f9b8b",
   "metadata": {},
   "source": [
    "2. Create a Pandas DataFrame with 3 columns and 4 rows filled with random integers. Compute the row-wise and column-wise sum."
   ]
  },
  {
   "cell_type": "code",
   "execution_count": 28,
   "id": "74b3989e",
   "metadata": {},
   "outputs": [
    {
     "name": "stdout",
     "output_type": "stream",
     "text": [
      "    0   1   2\n",
      "0  18   4  18\n",
      "1  17   1   3\n",
      "2   4   4  18\n",
      "3   4  10   5\n",
      "0    40\n",
      "1    21\n",
      "2    26\n",
      "3    19\n",
      "dtype: int64\n",
      "0    43\n",
      "1    19\n",
      "2    44\n",
      "dtype: int64\n"
     ]
    }
   ],
   "source": [
    "cols_count=3\n",
    "rows_count=4\n",
    "data_frame=pd.DataFrame(np.random.randint(1,20,(rows_count,cols_count)))\n",
    "print(data_frame)\n",
    "row_wise_sum_arr=data_frame.sum(axis=1)\n",
    "col_wise_sum_arr=data_frame.sum(axis=0)\n",
    "print(row_wise_sum_arr)\n",
    "print(col_wise_sum_arr)\n"
   ]
  },
  {
   "cell_type": "markdown",
   "id": "b407fb91",
   "metadata": {},
   "source": [
    "### Assignment 3: Data Cleaning\n",
    "\n",
    "1. Create a Pandas DataFrame with 3 columns and 5 rows filled with random integers. Introduce some NaN values. Fill the NaN values with the mean of the respective columns."
   ]
  },
  {
   "cell_type": "code",
   "execution_count": 34,
   "id": "e02407e1",
   "metadata": {},
   "outputs": [
    {
     "name": "stdout",
     "output_type": "stream",
     "text": [
      "      0     1   2\n",
      "0   NaN  18.0   9\n",
      "1  12.0   NaN  12\n",
      "2   7.0  11.0  14\n",
      "3  18.0  10.0   8\n",
      "4   9.0   6.0  19\n",
      "      0      1   2\n",
      "0  11.5  18.00   9\n",
      "1  12.0  11.25  12\n",
      "2   7.0  11.00  14\n",
      "3  18.0  10.00   8\n",
      "4   9.0   6.00  19\n"
     ]
    }
   ],
   "source": [
    "cols_count=3\n",
    "rows_count=5\n",
    "data_frame=pd.DataFrame(np.random.randint(1,20,(rows_count,cols_count)))\n",
    "data_frame.iloc[0,0]=np.nan\n",
    "data_frame.iloc[1,1]=np.nan\n",
    "print(data_frame)\n",
    "data_frame.fillna(data_frame.mean(),inplace=True)\n",
    "print(data_frame)"
   ]
  },
  {
   "cell_type": "markdown",
   "id": "41d31d77",
   "metadata": {},
   "source": [
    "2. Create a Pandas DataFrame with 4 columns and 6 rows filled with random integers. Introduce some NaN values. Drop the rows with any NaN values."
   ]
  },
  {
   "cell_type": "code",
   "execution_count": 36,
   "id": "a03f7133",
   "metadata": {},
   "outputs": [
    {
     "name": "stdout",
     "output_type": "stream",
     "text": [
      "      0     1   2   3\n",
      "0   NaN   1.0   1   6\n",
      "1  13.0   NaN  14   4\n",
      "2  10.0  12.0  19  15\n",
      "3  12.0  13.0   5   6\n",
      "4   4.0   7.0  16   7\n",
      "5  10.0   8.0  19  13\n",
      "      0     1   2   3\n",
      "2  10.0  12.0  19  15\n",
      "3  12.0  13.0   5   6\n",
      "4   4.0   7.0  16   7\n",
      "5  10.0   8.0  19  13\n"
     ]
    }
   ],
   "source": [
    "cols_count=4\n",
    "rows_count=6\n",
    "data_frame=pd.DataFrame(np.random.randint(1,20,(rows_count,cols_count)))\n",
    "data_frame.iloc[0,0]=np.nan\n",
    "data_frame.iloc[1,1]=np.nan\n",
    "print(data_frame)\n",
    "data_frame.dropna(inplace=True)\n",
    "print(data_frame)"
   ]
  },
  {
   "cell_type": "markdown",
   "id": "ea973e92",
   "metadata": {},
   "source": [
    "### Assignment 4: Data Aggregation\n",
    "\n",
    "1. Create a Pandas DataFrame with 2 columns: 'Category' and 'Value'. Fill the 'Category' column with random categories ('A', 'B', 'C') and the 'Value' column with random integers. Group the DataFrame by 'Category' and compute the sum and mean of 'Value' for each category."
   ]
  },
  {
   "cell_type": "code",
   "execution_count": 48,
   "id": "59205e51",
   "metadata": {},
   "outputs": [
    {
     "name": "stdout",
     "output_type": "stream",
     "text": [
      "  Category  Value\n",
      "0        C     18\n",
      "1        B     12\n",
      "2        B      8\n",
      "3        A     14\n",
      "4        B     19\n"
     ]
    },
    {
     "data": {
      "text/html": [
       "<div>\n",
       "<style scoped>\n",
       "    .dataframe tbody tr th:only-of-type {\n",
       "        vertical-align: middle;\n",
       "    }\n",
       "\n",
       "    .dataframe tbody tr th {\n",
       "        vertical-align: top;\n",
       "    }\n",
       "\n",
       "    .dataframe thead tr th {\n",
       "        text-align: left;\n",
       "    }\n",
       "\n",
       "    .dataframe thead tr:last-of-type th {\n",
       "        text-align: right;\n",
       "    }\n",
       "</style>\n",
       "<table border=\"1\" class=\"dataframe\">\n",
       "  <thead>\n",
       "    <tr>\n",
       "      <th></th>\n",
       "      <th colspan=\"2\" halign=\"left\">Value</th>\n",
       "    </tr>\n",
       "    <tr>\n",
       "      <th></th>\n",
       "      <th>sum</th>\n",
       "      <th>mean</th>\n",
       "    </tr>\n",
       "    <tr>\n",
       "      <th>Category</th>\n",
       "      <th></th>\n",
       "      <th></th>\n",
       "    </tr>\n",
       "  </thead>\n",
       "  <tbody>\n",
       "    <tr>\n",
       "      <th>A</th>\n",
       "      <td>14</td>\n",
       "      <td>14.0</td>\n",
       "    </tr>\n",
       "    <tr>\n",
       "      <th>B</th>\n",
       "      <td>39</td>\n",
       "      <td>13.0</td>\n",
       "    </tr>\n",
       "    <tr>\n",
       "      <th>C</th>\n",
       "      <td>18</td>\n",
       "      <td>18.0</td>\n",
       "    </tr>\n",
       "  </tbody>\n",
       "</table>\n",
       "</div>"
      ],
      "text/plain": [
       "         Value      \n",
       "           sum  mean\n",
       "Category            \n",
       "A           14  14.0\n",
       "B           39  13.0\n",
       "C           18  18.0"
      ]
     },
     "execution_count": 48,
     "metadata": {},
     "output_type": "execute_result"
    }
   ],
   "source": [
    "rows_count=5\n",
    "data_frame=pd.DataFrame({\"Category\":np.random.choice(['A','B','C'],size=rows_count),\"Value\":np.random.randint(1,20,rows_count)},columns=[\"Category\",\"Value\"])\n",
    "print(data_frame)\n",
    "data_frame.groupby(\"Category\").agg(['sum','mean'])"
   ]
  },
  {
   "cell_type": "markdown",
   "id": "4f763f7f",
   "metadata": {},
   "source": [
    "2. Create a Pandas DataFrame with 3 columns: 'Product', 'Category', and 'Sales'. Fill the DataFrame with random data. Group the DataFrame by 'Category' and compute the total sales for each category."
   ]
  },
  {
   "cell_type": "code",
   "execution_count": 56,
   "id": "176c5ac5",
   "metadata": {},
   "outputs": [
    {
     "name": "stdout",
     "output_type": "stream",
     "text": [
      "   Product Category      Sales\n",
      "0       P5       C3  71.961165\n",
      "1       P5       C1  96.500986\n",
      "2       P4       C2  11.369859\n",
      "3       P1       C3  64.842893\n",
      "4       P3       C2  18.108906\n",
      "5       P3       C3  88.386196\n",
      "6       P5       C1  39.006854\n",
      "7       P3       C2  76.279499\n",
      "8       P2       C2  33.780408\n",
      "9       P5       C1  48.724437\n",
      "10      P3       C3  48.196245\n",
      "11      P5       C2  33.281854\n",
      "12      P1       C2  69.004561\n",
      "13      P1       C3  36.014226\n",
      "14      P1       C3  40.078030\n"
     ]
    },
    {
     "data": {
      "text/html": [
       "<div>\n",
       "<style scoped>\n",
       "    .dataframe tbody tr th:only-of-type {\n",
       "        vertical-align: middle;\n",
       "    }\n",
       "\n",
       "    .dataframe tbody tr th {\n",
       "        vertical-align: top;\n",
       "    }\n",
       "\n",
       "    .dataframe thead th {\n",
       "        text-align: right;\n",
       "    }\n",
       "</style>\n",
       "<table border=\"1\" class=\"dataframe\">\n",
       "  <thead>\n",
       "    <tr style=\"text-align: right;\">\n",
       "      <th></th>\n",
       "      <th>Sales</th>\n",
       "    </tr>\n",
       "    <tr>\n",
       "      <th>Category</th>\n",
       "      <th></th>\n",
       "    </tr>\n",
       "  </thead>\n",
       "  <tbody>\n",
       "    <tr>\n",
       "      <th>C1</th>\n",
       "      <td>184.232277</td>\n",
       "    </tr>\n",
       "    <tr>\n",
       "      <th>C2</th>\n",
       "      <td>241.825088</td>\n",
       "    </tr>\n",
       "    <tr>\n",
       "      <th>C3</th>\n",
       "      <td>349.478755</td>\n",
       "    </tr>\n",
       "  </tbody>\n",
       "</table>\n",
       "</div>"
      ],
      "text/plain": [
       "               Sales\n",
       "Category            \n",
       "C1        184.232277\n",
       "C2        241.825088\n",
       "C3        349.478755"
      ]
     },
     "execution_count": 56,
     "metadata": {},
     "output_type": "execute_result"
    }
   ],
   "source": [
    "rows_count=15\n",
    "colums_arr=[\"Product\",\"Category\",\"Sales\"]\n",
    "products_arr=[\"P1\",\"P2\",\"P3\",\"P4\",\"P5\"]\n",
    "categories_arr=[\"C1\",\"C2\",\"C3\"]\n",
    "data_frame=pd.DataFrame({colums_arr[0]:np.random.choice(products_arr,size=rows_count),\n",
    "                         colums_arr[1]:np.random.choice(categories_arr,size=rows_count),\n",
    "                         colums_arr[2]:np.random.random(rows_count)*100},columns=colums_arr)\n",
    "print(data_frame)\n",
    "data_frame.groupby(colums_arr[1]).sum(colums_arr[2])"
   ]
  },
  {
   "cell_type": "markdown",
   "id": "64e72db4",
   "metadata": {},
   "source": [
    "### Assignment 5: Merging DataFrames\n",
    "\n",
    "1. Create two Pandas DataFrames with a common column. Merge the DataFrames using the common column."
   ]
  },
  {
   "cell_type": "code",
   "execution_count": 61,
   "id": "c8dffa30",
   "metadata": {},
   "outputs": [
    {
     "name": "stdout",
     "output_type": "stream",
     "text": [
      "   C1  C2\n",
      "0  12  14\n",
      "1   3  19\n",
      "2  18  13\n",
      "3   3   9\n",
      "4   4   7\n",
      "   C1  C3\n",
      "0  10   9\n",
      "1  19   6\n",
      "2   8   1\n",
      "3   4   3\n",
      "4   9   8\n"
     ]
    },
    {
     "data": {
      "text/html": [
       "<div>\n",
       "<style scoped>\n",
       "    .dataframe tbody tr th:only-of-type {\n",
       "        vertical-align: middle;\n",
       "    }\n",
       "\n",
       "    .dataframe tbody tr th {\n",
       "        vertical-align: top;\n",
       "    }\n",
       "\n",
       "    .dataframe thead th {\n",
       "        text-align: right;\n",
       "    }\n",
       "</style>\n",
       "<table border=\"1\" class=\"dataframe\">\n",
       "  <thead>\n",
       "    <tr style=\"text-align: right;\">\n",
       "      <th></th>\n",
       "      <th>C1</th>\n",
       "      <th>C2</th>\n",
       "      <th>C3</th>\n",
       "    </tr>\n",
       "  </thead>\n",
       "  <tbody>\n",
       "    <tr>\n",
       "      <th>0</th>\n",
       "      <td>4</td>\n",
       "      <td>7</td>\n",
       "      <td>3</td>\n",
       "    </tr>\n",
       "  </tbody>\n",
       "</table>\n",
       "</div>"
      ],
      "text/plain": [
       "   C1  C2  C3\n",
       "0   4   7   3"
      ]
     },
     "execution_count": 61,
     "metadata": {},
     "output_type": "execute_result"
    }
   ],
   "source": [
    "rows_count=5\n",
    "df1=pd.DataFrame({\"C1\":np.random.randint(1,20,rows_count),\"C2\":np.random.randint(1,20,rows_count)})\n",
    "df2=pd.DataFrame({\"C1\":np.random.randint(1,20,rows_count),\"C3\":np.random.randint(1,20,rows_count)})\n",
    "print(df1)\n",
    "print(df2)\n",
    "pd.merge(df1,df2,on=\"C1\")"
   ]
  },
  {
   "cell_type": "markdown",
   "id": "d8d99ab5",
   "metadata": {},
   "source": [
    "2. Create two Pandas DataFrames with different columns. Concatenate the DataFrames along the rows and along the columns."
   ]
  },
  {
   "cell_type": "code",
   "execution_count": 69,
   "id": "72515822",
   "metadata": {},
   "outputs": [
    {
     "name": "stdout",
     "output_type": "stream",
     "text": [
      "   C1  C2\n",
      "0  13  15\n",
      "1  14  14\n",
      "2   9   4\n",
      "   C3  C4\n",
      "0  15  17\n",
      "1   4  17\n",
      "2   6  10\n",
      "3  19   9\n",
      "     C1    C2    C3    C4\n",
      "0  13.0  15.0   NaN   NaN\n",
      "1  14.0  14.0   NaN   NaN\n",
      "2   9.0   4.0   NaN   NaN\n",
      "0   NaN   NaN  15.0  17.0\n",
      "1   NaN   NaN   4.0  17.0\n",
      "2   NaN   NaN   6.0  10.0\n",
      "3   NaN   NaN  19.0   9.0\n",
      "     C1    C2  C3  C4\n",
      "0  13.0  15.0  15  17\n",
      "1  14.0  14.0   4  17\n",
      "2   9.0   4.0   6  10\n",
      "3   NaN   NaN  19   9\n"
     ]
    }
   ],
   "source": [
    "rows_count1=3;rows_count2=4\n",
    "df1=pd.DataFrame({\"C1\":np.random.randint(1,20,rows_count1),\"C2\":np.random.randint(1,20,rows_count1)})\n",
    "df2=pd.DataFrame({\"C3\":np.random.randint(1,20,rows_count2),\"C4\":np.random.randint(1,20,rows_count2)})\n",
    "print(df1)\n",
    "print(df2)\n",
    "concatenated_rows_arr=pd.concat([df1,df2],axis=0)\n",
    "print(concatenated_rows_arr)\n",
    "concatenated_cols_arr=pd.concat([df1,df2],axis=1)\n",
    "print(concatenated_cols_arr)"
   ]
  },
  {
   "cell_type": "markdown",
   "id": "9c757100",
   "metadata": {},
   "source": [
    "### Assignment 6: Time Series Analysis\n",
    "\n",
    "1. Create a Pandas DataFrame with a datetime index and one column filled with random integers. Resample the DataFrame to compute the monthly mean of the values."
   ]
  },
  {
   "cell_type": "code",
   "execution_count": 99,
   "id": "d5d1782a",
   "metadata": {},
   "outputs": [
    {
     "name": "stdout",
     "output_type": "stream",
     "text": [
      "            value\n",
      "DT               \n",
      "2024-01-01     15\n",
      "2024-01-02      9\n",
      "2024-01-03      3\n",
      "2024-01-04     13\n",
      "2024-01-05     17\n",
      "...           ...\n",
      "2024-12-27      4\n",
      "2024-12-28      2\n",
      "2024-12-29     10\n",
      "2024-12-30     12\n",
      "2024-12-31     16\n",
      "\n",
      "[366 rows x 1 columns]\n",
      "                value\n",
      "DT                   \n",
      "2024-01-31  10.258065\n",
      "2024-02-29  11.482759\n",
      "2024-03-31  11.548387\n",
      "2024-04-30   9.233333\n",
      "2024-05-31  10.709677\n",
      "2024-06-30   9.000000\n",
      "2024-07-31   9.741935\n",
      "2024-08-31   8.354839\n",
      "2024-09-30   9.433333\n",
      "2024-10-31  10.387097\n",
      "2024-11-30  10.400000\n",
      "2024-12-31  10.290323\n"
     ]
    }
   ],
   "source": [
    "colums_arr=[\"DT\",\"value\"]\n",
    "data_types={colums_arr[0]:\"datetime64[ns]\",colums_arr[1]:\"int\"}\n",
    "random_dates=pd.date_range(start=\"2024-01-01\",end=\"2024-12-31\",freq=\"D\")\n",
    "rows_count=len(random_dates)\n",
    "random_values=np.random.randint(1,20,rows_count)\n",
    "data_frame=pd.DataFrame({colums_arr[0]:random_dates,colums_arr[1]:random_values},\n",
    "                        columns=[\"DT\",\"value\"]).astype(data_types).set_index(\"DT\")\n",
    "print(data_frame)\n",
    "\n",
    "monthly_mean_arr=data_frame.resample(\"ME\").mean()\n",
    "print(monthly_mean_arr)\n"
   ]
  },
  {
   "cell_type": "markdown",
   "id": "1fff9286",
   "metadata": {},
   "source": [
    "2. Create a Pandas DataFrame with a datetime index ranging from '2021-01-01' to '2021-12-31' and one column filled with random integers. Compute the rolling mean with a window of 7 days."
   ]
  },
  {
   "cell_type": "code",
   "execution_count": 103,
   "id": "71c3903f",
   "metadata": {},
   "outputs": [
    {
     "name": "stdout",
     "output_type": "stream",
     "text": [
      "            value\n",
      "DT               \n",
      "2021-01-01     65\n",
      "2021-01-02     16\n",
      "2021-01-03     61\n",
      "2021-01-04     72\n",
      "2021-01-05     36\n",
      "...           ...\n",
      "2021-12-27     81\n",
      "2021-12-28     19\n",
      "2021-12-29     92\n",
      "2021-12-30     16\n",
      "2021-12-31     47\n",
      "\n",
      "[365 rows x 1 columns]\n",
      "                value\n",
      "DT                   \n",
      "2021-01-01        NaN\n",
      "2021-01-02        NaN\n",
      "2021-01-03        NaN\n",
      "2021-01-04        NaN\n",
      "2021-01-05        NaN\n",
      "...               ...\n",
      "2021-12-27  50.285714\n",
      "2021-12-28  48.714286\n",
      "2021-12-29  53.000000\n",
      "2021-12-30  54.000000\n",
      "2021-12-31  47.714286\n",
      "\n",
      "[365 rows x 1 columns]\n"
     ]
    }
   ],
   "source": [
    "random_dates=pd.date_range(start=\"2021-01-01\",end=\"2021-12-31\",freq=\"D\")\n",
    "rows_count=len(random_dates)\n",
    "random_values=np.random.randint(1,99,rows_count)\n",
    "colums_arr=[\"DT\",\"value\"]\n",
    "data_frame=pd.DataFrame({colums_arr[0]:random_dates,colums_arr[1]:random_values},columns=colums_arr).set_index(\"DT\")\n",
    "print(data_frame)\n",
    "rolling_mean_arr=data_frame.rolling(window=7).mean()\n",
    "print(rolling_mean_arr)"
   ]
  },
  {
   "cell_type": "markdown",
   "id": "9e63a00d",
   "metadata": {},
   "source": [
    "### Assignment 7: MultiIndex DataFrame\n",
    "\n",
    "1. Create a Pandas DataFrame with a MultiIndex (hierarchical index). Perform some basic indexing and slicing operations on the MultiIndex DataFrame."
   ]
  },
  {
   "cell_type": "code",
   "execution_count": 113,
   "id": "073c03e3",
   "metadata": {},
   "outputs": [
    {
     "name": "stdout",
     "output_type": "stream",
     "text": [
      "         Col1  Col2  Col3  Col4  Col5\n",
      "P_C C_C                              \n",
      "C1  CC1    15     9    14    13    18\n",
      "    CC2    16     6    16    17    15\n",
      "C2  CC1    13     9     6     0     2\n",
      "    CC2     4     4    11    17    11\n",
      "C3  CC1     1    12    18    13     6\n",
      "\n",
      "     Col1  Col2  Col3  Col4  Col5\n",
      "C_C                              \n",
      "CC1    13     9     6     0     2\n",
      "CC2     4     4    11    17    11\n",
      "\n",
      "Col1    16\n",
      "Col2     6\n",
      "Col3    16\n",
      "Col4    17\n",
      "Col5    15\n",
      "Name: (C1, CC2), dtype: int32\n"
     ]
    }
   ],
   "source": [
    "arr=[[\"C1\",\"C1\",\"C2\",\"C2\",\"C3\"],[\"CC1\",\"CC2\",\"CC1\",\"CC2\",\"CC1\"]]\n",
    "index_arr=pd.MultiIndex.from_arrays(arr,names=(\"P_C\",\"C_C\"))\n",
    "data_frame=pd.DataFrame(np.random.randint(0,20,(5,5)),index=index_arr,columns=[\"Col1\",\"Col2\",\"Col3\",\"Col4\",\"Col5\"])\n",
    "print(data_frame)\n",
    "print(\"\")\n",
    "print(data_frame.loc[\"C2\"])\n",
    "print(\"\")\n",
    "print(data_frame.loc[(\"C1\",\"CC2\")])"
   ]
  },
  {
   "cell_type": "markdown",
   "id": "33c00be0",
   "metadata": {},
   "source": [
    "2. Create a Pandas DataFrame with MultiIndex consisting of 'Category' and 'SubCategory'. Fill the DataFrame with random data and compute the sum of values for each 'Category' and 'SubCategory'."
   ]
  },
  {
   "cell_type": "code",
   "execution_count": 125,
   "id": "9fa88b97",
   "metadata": {},
   "outputs": [
    {
     "name": "stdout",
     "output_type": "stream",
     "text": [
      "                      Col1  Col2  Col3  Col4  Col5\n",
      "Category SubCategory                              \n",
      "C1       CC1             8     9    18    10     0\n",
      "         CC2             5    15    16    10    19\n",
      "C2       CC1            18    12     4     7     0\n",
      "         CC2             7    12    17     3     1\n",
      "C3       CC1            17    19    12    12     0\n",
      "\n",
      "          Col1  Col2  Col3  Col4  Col5\n",
      "Category                              \n",
      "C1          13    24    34    20    19\n",
      "C2          25    24    21    10     1\n",
      "C3          17    19    12    12     0\n",
      "                      Col1  Col2  Col3  Col4  Col5\n",
      "Category SubCategory                              \n",
      "C1       CC1             8     9    18    10     0\n",
      "         CC2             5    15    16    10    19\n",
      "C2       CC1            18    12     4     7     0\n",
      "         CC2             7    12    17     3     1\n",
      "C3       CC1            17    19    12    12     0\n"
     ]
    }
   ],
   "source": [
    "arr=[[\"C1\",\"C1\",\"C2\",\"C2\",\"C3\"],[\"CC1\",\"CC2\",\"CC1\",\"CC2\",\"CC1\"]]\n",
    "index_arr=pd.MultiIndex.from_arrays(arr,names=(\"Category\",\"SubCategory\"))\n",
    "data_frame=pd.DataFrame(np.random.randint(0,20,(5,5)),index=index_arr,columns=[\"Col1\",\"Col2\",\"Col3\",\"Col4\",\"Col5\"])\n",
    "print(data_frame)\n",
    "print(\"\")\n",
    "sum_of_categories_arr=data_frame.groupby([\"Category\"]).sum()\n",
    "print(sum_of_categories_arr)\n",
    "sum_of_subcategories_arr=data_frame.groupby([\"Category\",\"SubCategory\"]).sum()\n",
    "print(sum_of_subcategories_arr)"
   ]
  },
  {
   "cell_type": "markdown",
   "id": "00398893",
   "metadata": {},
   "source": [
    "### Assignment 8: Pivot Tables\n",
    "\n",
    "1. Create a Pandas DataFrame with columns 'Date', 'Category', and 'Value'. Create a pivot table to compute the sum of 'Value' for each 'Category' by 'Date'."
   ]
  },
  {
   "cell_type": "code",
   "execution_count": 128,
   "id": "e71297e0",
   "metadata": {},
   "outputs": [
    {
     "name": "stdout",
     "output_type": "stream",
     "text": [
      "           Category  Value\n",
      "Date                      \n",
      "2021-01-01       C2     87\n",
      "2021-01-02       C2     62\n",
      "2021-01-03       C3     13\n",
      "2021-01-04       C1      8\n",
      "2021-01-05       C1     16\n",
      "...             ...    ...\n",
      "2021-12-27       C2     36\n",
      "2021-12-28       C3     26\n",
      "2021-12-29       C1     51\n",
      "2021-12-30       C1     96\n",
      "2021-12-31       C2     43\n",
      "\n",
      "[365 rows x 2 columns]\n",
      "Category      C1    C2    C3\n",
      "Date                        \n",
      "2021-01-01   NaN  87.0   NaN\n",
      "2021-01-02   NaN  62.0   NaN\n",
      "2021-01-03   NaN   NaN  13.0\n",
      "2021-01-04   8.0   NaN   NaN\n",
      "2021-01-05  16.0   NaN   NaN\n",
      "...          ...   ...   ...\n",
      "2021-12-27   NaN  36.0   NaN\n",
      "2021-12-28   NaN   NaN  26.0\n",
      "2021-12-29  51.0   NaN   NaN\n",
      "2021-12-30  96.0   NaN   NaN\n",
      "2021-12-31   NaN  43.0   NaN\n",
      "\n",
      "[365 rows x 3 columns]\n"
     ]
    }
   ],
   "source": [
    "random_dates=pd.date_range(start=\"2021-01-01\",end=\"2021-12-31\",freq=\"D\")\n",
    "rows_count=len(random_dates)\n",
    "random_values=np.random.randint(1,99,rows_count)\n",
    "categories_arr=[\"C1\",\"C2\",\"C3\"]\n",
    "random_categories=np.random.choice(categories_arr,size=rows_count)\n",
    "colums_arr=[\"Date\",\"Category\",\"Value\"]\n",
    "data_frame=pd.DataFrame({colums_arr[0]:random_dates,\n",
    "                         colums_arr[1]:random_categories,\n",
    "                         colums_arr[2]:random_values},\n",
    "                        columns=colums_arr).set_index(colums_arr[0])\n",
    "print(data_frame)\n",
    "pivot_table=data_frame.pivot_table(values=colums_arr[2],\n",
    "                                   index=colums_arr[0],\n",
    "                                   columns=colums_arr[1],\n",
    "                                   aggfunc=\"sum\")\n",
    "print(pivot_table)"
   ]
  },
  {
   "cell_type": "markdown",
   "id": "8378cca0",
   "metadata": {},
   "source": [
    "2. Create a Pandas DataFrame with columns 'Year', 'Quarter', and 'Revenue'. Create a pivot table to compute the mean 'Revenue' for each 'Quarter' by 'Year'."
   ]
  },
  {
   "cell_type": "code",
   "execution_count": 130,
   "id": "7129369a",
   "metadata": {},
   "outputs": [
    {
     "name": "stdout",
     "output_type": "stream",
     "text": [
      "    Year  Quarter     Revenue\n",
      "0   2000        1  304.118251\n",
      "1   2022        1  708.054283\n",
      "2   2015        1   91.049270\n",
      "3   1999        3  948.529080\n",
      "4   2003        1  743.439948\n",
      "5   2008        1  516.556725\n",
      "6   2015        3  966.874134\n",
      "7   2005        2  592.173737\n",
      "8   2002        3  194.484665\n",
      "9   2015        1  355.144443\n",
      "10  2005        3  635.821408\n",
      "11  2002        2  252.748547\n",
      "12  2006        3  467.076536\n",
      "13  2022        2  243.327845\n",
      "14  2017        2  431.874545\n",
      "Quarter           1           2           3\n",
      "Year                                       \n",
      "1999            NaN         NaN  948.529080\n",
      "2000     304.118251         NaN         NaN\n",
      "2002            NaN  252.748547  194.484665\n",
      "2003     743.439948         NaN         NaN\n",
      "2005            NaN  592.173737  635.821408\n",
      "2006            NaN         NaN  467.076536\n",
      "2008     516.556725         NaN         NaN\n",
      "2015     223.096856         NaN  966.874134\n",
      "2017            NaN  431.874545         NaN\n",
      "2022     708.054283  243.327845         NaN\n"
     ]
    }
   ],
   "source": [
    "colums_arr=[\"Year\",\"Quarter\",\"Revenue\"]\n",
    "rows_count=15\n",
    "random_years=np.random.randint(1999,2025,rows_count)\n",
    "random_quarters=np.random.randint(1,4,rows_count)\n",
    "random_revenue=np.random.random(rows_count)*1000\n",
    "data_frame=pd.DataFrame({colums_arr[0]:random_years,\n",
    "                         colums_arr[1]:random_quarters,\n",
    "                         colums_arr[2]:random_revenue},\n",
    "                        columns=colums_arr)\n",
    "print(data_frame)\n",
    "pivot_table=data_frame.pivot_table(values=colums_arr[2],\n",
    "                                   index=colums_arr[0],\n",
    "                                   columns=colums_arr[1],\n",
    "                                   aggfunc=\"mean\")\n",
    "print(pivot_table)"
   ]
  },
  {
   "cell_type": "markdown",
   "id": "49d86628",
   "metadata": {},
   "source": [
    "### Assignment 9: Applying Functions\n",
    "\n",
    "1. Create a Pandas DataFrame with 3 columns and 5 rows filled with random integers. Apply a function that doubles the values of the DataFrame."
   ]
  },
  {
   "cell_type": "code",
   "execution_count": 143,
   "id": "511c0140",
   "metadata": {},
   "outputs": [
    {
     "name": "stdout",
     "output_type": "stream",
     "text": [
      "    0   1   2\n",
      "0   7   8  17\n",
      "1  19   8  17\n",
      "2   8  19   9\n",
      "3  10  16  16\n",
      "4   1  18  14\n",
      "\n",
      "    0   1   2\n",
      "0  14  16  34\n",
      "1  38  16  34\n",
      "2  16  38  18\n",
      "3  20  32  32\n",
      "4   2  36  28\n",
      "\n",
      "    0   1   2\n",
      "0  28  32  68\n",
      "1  76  32  68\n",
      "2  32  76  36\n",
      "3  40  64  64\n",
      "4   4  72  56\n",
      "\n",
      "     0    1    2\n",
      "0   56   64  136\n",
      "1  152   64  136\n",
      "2   64  152   72\n",
      "3   80  128  128\n",
      "4    8  144  112\n",
      "\n"
     ]
    }
   ],
   "source": [
    "def double_element(element):\n",
    "    return element*2\n",
    "\n",
    "cols_count=3\n",
    "rows_count=5\n",
    "data_frame=pd.DataFrame(np.random.randint(1,20,(rows_count,cols_count)))\n",
    "print(data_frame,end=\"\\n\\n\")\n",
    "data_frame.iloc[0:,0:]=data_frame*2\n",
    "print(data_frame,end=\"\\n\\n\")\n",
    "data_frame=data_frame.map(lambda element:element*2)\n",
    "print(data_frame,end=\"\\n\\n\")\n",
    "data_frame=data_frame.map(double_element)\n",
    "print(data_frame,end=\"\\n\\n\")"
   ]
  },
  {
   "cell_type": "markdown",
   "id": "3cee2560",
   "metadata": {},
   "source": [
    "2. Create a Pandas DataFrame with 3 columns and 6 rows filled with random integers. Apply a lambda function to create a new column that is the sum of the existing columns."
   ]
  },
  {
   "cell_type": "code",
   "execution_count": 149,
   "id": "60bed226",
   "metadata": {},
   "outputs": [
    {
     "name": "stdout",
     "output_type": "stream",
     "text": [
      "    0   1   2\n",
      "0   9   8  17\n",
      "1   6  13  11\n",
      "2   6   9  14\n",
      "3  12   2  13\n",
      "4   5   8   5\n",
      "5  18   2  17\n",
      "\n",
      "    0   1   2  Sum\n",
      "0   9   8  17   34\n",
      "1   6  13  11   30\n",
      "2   6   9  14   29\n",
      "3  12   2  13   27\n",
      "4   5   8   5   18\n",
      "5  18   2  17   37\n",
      "\n"
     ]
    }
   ],
   "source": [
    "cols_count=3\n",
    "rows_count=6\n",
    "data_frame=pd.DataFrame(np.random.randint(1,20,(rows_count,cols_count)))\n",
    "print(data_frame,end=\"\\n\\n\")\n",
    "data_frame[\"Sum\"]=data_frame.apply(lambda row:row.sum(),axis=1)\n",
    "print(data_frame,end=\"\\n\\n\")"
   ]
  },
  {
   "cell_type": "markdown",
   "id": "b7f35f48",
   "metadata": {},
   "source": [
    "### Assignment 10: Working with Text Data\n",
    "\n",
    "1. Create a Pandas Series with 5 random text strings. Convert all the strings to uppercase."
   ]
  },
  {
   "cell_type": "code",
   "execution_count": 156,
   "id": "c2b21cb9",
   "metadata": {},
   "outputs": [
    {
     "name": "stdout",
     "output_type": "stream",
     "text": [
      "['dpAYBSwUWq', '6vTesjMsWV', 'OCsDQvUmN3', 'vu7GRgZqQl', 'RzcVcci4Kp']\n",
      "0    dpAYBSwUWq\n",
      "1    6vTesjMsWV\n",
      "2    OCsDQvUmN3\n",
      "3    vu7GRgZqQl\n",
      "4    RzcVcci4Kp\n",
      "dtype: object\n",
      "0    DPAYBSWUWQ\n",
      "1    6VTESJMSWV\n",
      "2    OCSDQVUMN3\n",
      "3    VU7GRGZQQL\n",
      "4    RZCVCCI4KP\n",
      "dtype: object\n"
     ]
    }
   ],
   "source": [
    "str_length=10\n",
    "random_strings=[\"\".join(rnd.choices(string.ascii_letters+string.digits,k=str_length)) for i in range(0,5)]\n",
    "print(random_strings)\n",
    "series=pd.Series(random_strings)\n",
    "print(series)\n",
    "uppercase_series=series.str.upper()\n",
    "print(uppercase_series)"
   ]
  },
  {
   "cell_type": "markdown",
   "metadata": {},
   "source": [
    "2. Create a Pandas Series with 5 random text strings. Extract the first three characters of each string.\n"
   ]
  },
  {
   "cell_type": "code",
   "execution_count": 164,
   "metadata": {},
   "outputs": [
    {
     "name": "stdout",
     "output_type": "stream",
     "text": [
      "['9E7CrJgJI7', 'jFlM0nmD4R', '5tuXRsaToY', 'JdEor3Ioos', 'qBuQLh89Wm']\n",
      "0    9E7CrJgJI7\n",
      "1    jFlM0nmD4R\n",
      "2    5tuXRsaToY\n",
      "3    JdEor3Ioos\n",
      "4    qBuQLh89Wm\n",
      "dtype: object\n",
      "0    9E7\n",
      "1    jFl\n",
      "2    5tu\n",
      "3    JdE\n",
      "4    qBu\n",
      "dtype: object\n"
     ]
    }
   ],
   "source": [
    "str_length=10\n",
    "random_strings=[\"\".join(rnd.choices(string.ascii_letters+string.digits,k=str_length)) for i in range(0,5)]\n",
    "print(random_strings)\n",
    "series=pd.Series(random_strings)\n",
    "print(series)\n",
    "three_char_series=series.str[:3]\n",
    "print(three_char_series)\n"
   ]
  }
 ],
 "metadata": {
  "kernelspec": {
   "display_name": "Python 3",
   "language": "python",
   "name": "python3"
  },
  "language_info": {
   "codemirror_mode": {
    "name": "ipython",
    "version": 3
   },
   "file_extension": ".py",
   "mimetype": "text/x-python",
   "name": "python",
   "nbconvert_exporter": "python",
   "pygments_lexer": "ipython3",
   "version": "3.12.0"
  }
 },
 "nbformat": 4,
 "nbformat_minor": 5
}
