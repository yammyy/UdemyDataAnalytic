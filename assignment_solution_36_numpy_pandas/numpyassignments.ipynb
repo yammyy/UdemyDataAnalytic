{
 "cells": [
  {
   "cell_type": "markdown",
   "id": "b4ec6e54",
   "metadata": {},
   "source": [
    "# Module: NumPy Assignments\n",
    "## Lesson: NumPy\n",
    "### Assignment 1: Array Creation and Manipulation\n",
    "\n",
    "1. Create a NumPy array of shape (5, 5) filled with random integers between 1 and 20. Replace all the elements in the third column with 1."
   ]
  },
  {
   "cell_type": "code",
   "execution_count": 2,
   "id": "acb6b1d9",
   "metadata": {},
   "outputs": [
    {
     "name": "stdout",
     "output_type": "stream",
     "text": [
      "[[12  3 13  8 16]\n",
      " [10  2 19  8  5]\n",
      " [ 3 17 15 20  8]\n",
      " [ 9  9 15 17  2]\n",
      " [15 16 15  5 11]]\n",
      "[[12  3  1  8 16]\n",
      " [10  2  1  8  5]\n",
      " [ 3 17  1 20  8]\n",
      " [ 9  9  1 17  2]\n",
      " [15 16  1  5 11]]\n"
     ]
    }
   ],
   "source": [
    "import numpy as np\n",
    "import random\n",
    "\n",
    "array=np.zeros((5,5),int)\n",
    "for i in range(0,5):\n",
    "    for j in range(0,5):\n",
    "        array[i][j]=random.randint(1,20)\n",
    "print(array)\n",
    "array[0:,3-1:3]=1\n",
    "print(array)"
   ]
  },
  {
   "cell_type": "markdown",
   "id": "2655d1e3",
   "metadata": {},
   "source": [
    "2. Create a NumPy array of shape (4, 4) with values from 1 to 16. Replace the diagonal elements with 0."
   ]
  },
  {
   "cell_type": "code",
   "execution_count": 28,
   "id": "5ca994cf",
   "metadata": {},
   "outputs": [
    {
     "name": "stdout",
     "output_type": "stream",
     "text": [
      "[[10 13  1  9]\n",
      " [ 7 12  6  2]\n",
      " [ 4  7  7  6]\n",
      " [ 9  4  7  7]]\n",
      "[[ 0 13  1  9]\n",
      " [ 7  0  6  2]\n",
      " [ 4  7  0  6]\n",
      " [ 9  4  7  0]]\n"
     ]
    }
   ],
   "source": [
    "array=np.zeros((4,4),int)\n",
    "for i in range(0,4):\n",
    "    for j in range(0,4):\n",
    "        array[i][j]=random.randint(1,16)\n",
    "print(array)\n",
    "for i in range(0,4):\n",
    "    array[i][i]=0\n",
    "print(array)"
   ]
  },
  {
   "cell_type": "markdown",
   "id": "4645fab5",
   "metadata": {},
   "source": [
    "### Assignment 2: Array Indexing and Slicing\n",
    "\n",
    "1. Create a NumPy array of shape (6, 6) with values from 1 to 36. Extract the sub-array consisting of the 3rd to 5th rows and 2nd to 4th columns."
   ]
  },
  {
   "cell_type": "code",
   "execution_count": 30,
   "id": "ba4f01fd",
   "metadata": {},
   "outputs": [
    {
     "name": "stdout",
     "output_type": "stream",
     "text": [
      "[[15 16 19 31 34 20]\n",
      " [11  6 35 30 34 11]\n",
      " [19  6 14 24 14 32]\n",
      " [ 8 19 13 27  9  5]\n",
      " [ 7 20 13 33 29 12]\n",
      " [30 11 22 32 13 14]]\n",
      "[[ 6 14 24]\n",
      " [19 13 27]\n",
      " [20 13 33]]\n"
     ]
    }
   ],
   "source": [
    "array=np.zeros((6,6),int)\n",
    "for i in range(0,6):\n",
    "    for j in range(0,6):\n",
    "        array[i][j]=random.randint(1,36)\n",
    "sub_array=array[2:5,1:4]\n",
    "print(array)\n",
    "print(sub_array)\n"
   ]
  },
  {
   "cell_type": "markdown",
   "id": "49ddd284",
   "metadata": {},
   "source": [
    "2. Create a NumPy array of shape (5, 5) with random integers. Extract the elements on the border."
   ]
  },
  {
   "cell_type": "code",
   "execution_count": 62,
   "id": "449f0e48",
   "metadata": {},
   "outputs": [
    {
     "name": "stdout",
     "output_type": "stream",
     "text": [
      "[[40 41 76 11 66]\n",
      " [63 60 77 77 26]\n",
      " [ 3 39  5 12 91]\n",
      " [12 44 68 72 28]\n",
      " [34 21 23 18 32]]\n",
      "Border elements:   40 41 76 11 66 26 91 28 32 18 23 21 34 12 3 63\n"
     ]
    }
   ],
   "source": [
    "n=5\n",
    "array=np.zeros((n,n),int)\n",
    "for i in range(0,n):\n",
    "    for j in range(0,n):\n",
    "        array[i][j]=random.randint(1,99)\n",
    "print(array)\n",
    "res_str=\"\"\n",
    "for i in range(0,n):\n",
    "    res_str+=\" \"+str(array[0,i])\n",
    "for i in range(1,n-1):\n",
    "    res_str+=\" \"+str(array[i][n-1])\n",
    "for i in range(1,n+1):\n",
    "    res_str+=\" \"+str(array[n-1,-i])\n",
    "for i in range(2,n):\n",
    "    res_str+=\" \"+str(array[-i][0])\n",
    "print(\"Border elements: \",res_str)"
   ]
  },
  {
   "cell_type": "markdown",
   "id": "ee0ab7f0",
   "metadata": {},
   "source": [
    "### Assignment 3: Array Operations\n",
    "\n",
    "1. Create two NumPy arrays of shape (3, 4) filled with random integers. Perform element-wise addition, subtraction, multiplication, and division."
   ]
  },
  {
   "cell_type": "code",
   "execution_count": 67,
   "id": "a47957a3",
   "metadata": {},
   "outputs": [
    {
     "name": "stdout",
     "output_type": "stream",
     "text": [
      "[[646 445  86 428]\n",
      " [882  67  21 802]\n",
      " [614 695 639 200]]\n",
      "[[531 812 886 247]\n",
      " [607 327 716 664]\n",
      " [261 890 628 146]]\n",
      "Element-wise addition:\n",
      "[[1177 1257  972  675]\n",
      " [1489  394  737 1466]\n",
      " [ 875 1585 1267  346]]\n",
      "Element-wise substraction:\n",
      "[[ 115 -367 -800  181]\n",
      " [ 275 -260 -695  138]\n",
      " [ 353 -195   11   54]]\n",
      "Element-wise multiplication:\n",
      "[[343026 361340  76196 105716]\n",
      " [535374  21909  15036 532528]\n",
      " [160254 618550 401292  29200]]\n",
      "Element-wise division:\n",
      "[[1.2165725  0.54802956 0.09706546 1.73279352]\n",
      " [1.45304778 0.20489297 0.02932961 1.20783133]\n",
      " [2.35249042 0.78089888 1.01751592 1.36986301]]\n"
     ]
    }
   ],
   "source": [
    "i_max=3\n",
    "j_max=4\n",
    "arr1=np.random.randint(999,size=(i_max,j_max))\n",
    "arr2=np.random.randint(999,size=(i_max,j_max))\n",
    "print(arr1)\n",
    "print(arr2)\n",
    "print(\"Element-wise addition:\")\n",
    "print(arr1+arr2)\n",
    "print(\"Element-wise substraction:\")\n",
    "print(arr1-arr2)\n",
    "print(\"Element-wise multiplication:\")\n",
    "print(arr1*arr2)\n",
    "print(\"Element-wise division:\")\n",
    "print(arr1/arr2)"
   ]
  },
  {
   "cell_type": "markdown",
   "id": "34b8b170",
   "metadata": {},
   "source": [
    "2. Create a NumPy array of shape (4, 4) with values from 1 to 16. Compute the row-wise and column-wise sum."
   ]
  },
  {
   "cell_type": "code",
   "execution_count": 72,
   "id": "8b70fb36",
   "metadata": {},
   "outputs": [
    {
     "name": "stdout",
     "output_type": "stream",
     "text": [
      "[[ 4  5 11 15]\n",
      " [ 2  7 11  2]\n",
      " [10 14 12  4]\n",
      " [15 11 10 10]]\n",
      "[[ 5  6 12 16]\n",
      " [ 2  7 11  2]\n",
      " [10 14 12  4]\n",
      " [15 11 10 10]]\n",
      "[[ 6  6 12 16]\n",
      " [ 3  7 11  2]\n",
      " [11 14 12  4]\n",
      " [16 11 10 10]]\n"
     ]
    }
   ],
   "source": [
    "array=np.random.randint(low=1,high=16,size=(4,4))\n",
    "print(array)\n",
    "array[0:1]=array[0:1]+1\n",
    "print(array)\n",
    "array[0:,0:1]=array[0:,0:1]+1\n",
    "print(array)"
   ]
  },
  {
   "cell_type": "markdown",
   "id": "52fbad52",
   "metadata": {},
   "source": [
    "### Assignment 4: Statistical Operations\n",
    "\n",
    "1. Create a NumPy array of shape (5, 5) filled with random integers. Compute the mean, median, standard deviation, and variance of the array."
   ]
  },
  {
   "cell_type": "code",
   "execution_count": 81,
   "id": "e722c96d",
   "metadata": {},
   "outputs": [
    {
     "name": "stdout",
     "output_type": "stream",
     "text": [
      "[139 870 686 269 714]\n",
      "535.6\n",
      "686.0\n",
      "280.9402783511115\n",
      "78927.44\n"
     ]
    }
   ],
   "source": [
    "array=np.random.randint(999,size=(5,))\n",
    "print(array)\n",
    "array_mean=array.mean()\n",
    "print(array_mean)\n",
    "array_median=np.median(array)\n",
    "print(array_median)\n",
    "array_std=array.std()\n",
    "print(array_std)\n",
    "array_var=array.var()\n",
    "print(array_var)"
   ]
  },
  {
   "cell_type": "markdown",
   "id": "132f66b2",
   "metadata": {},
   "source": [
    "2. Create a NumPy array of shape (3, 3) with values from 1 to 9. Normalize the array (i.e., scale the values to have a mean of 0 and a standard deviation of 1)."
   ]
  },
  {
   "cell_type": "code",
   "execution_count": null,
   "id": "ed39bd2f",
   "metadata": {},
   "outputs": [
    {
     "name": "stdout",
     "output_type": "stream",
     "text": [
      "[[6 8 5]\n",
      " [4 7 4]\n",
      " [8 6 4]]\n",
      "5.777777777777778   1.547598697464902\n",
      "[[ 0.14359163  1.43591632 -0.50257071]\n",
      " [-1.14873305  0.78975397 -1.14873305]\n",
      " [ 1.43591632  0.14359163 -1.14873305]]\n"
     ]
    }
   ],
   "source": [
    "array=np.random.randint(low=1,high=9,size=(3,3))\n",
    "print(array)\n",
    "array_mean=array.mean();array_std=array.std()\n",
    "print(array_mean,\" \",array_std)\n",
    "normalized_array=(array-array_mean)/array_std\n",
    "print(normalized_array)"
   ]
  },
  {
   "cell_type": "markdown",
   "id": "2e8e7970",
   "metadata": {},
   "source": [
    "### Assignment 5: Broadcasting\n",
    "\n",
    "1. Create a NumPy array of shape (3, 3) filled with random integers. Add a 1D array of shape (3,) to each row of the 2D array using broadcasting."
   ]
  },
  {
   "cell_type": "code",
   "execution_count": 85,
   "id": "dbb40f6e",
   "metadata": {},
   "outputs": [
    {
     "name": "stdout",
     "output_type": "stream",
     "text": [
      "[[760 459 927]\n",
      " [777   0 267]\n",
      " [723 302   7]]\n",
      "[473 680 356]\n",
      "[[1233 1139 1283]\n",
      " [1250  680  623]\n",
      " [1196  982  363]]\n"
     ]
    }
   ],
   "source": [
    "array=np.random.randint(0,999,(3,3))\n",
    "print(array)\n",
    "new_array=np.random.randint(0,999,(3,))\n",
    "print(new_array)\n",
    "array=array+new_array\n",
    "print(array)"
   ]
  },
  {
   "cell_type": "markdown",
   "id": "cd1d194b",
   "metadata": {},
   "source": [
    "2. Create a NumPy array of shape (4, 4) filled with random integers. Subtract a 1D array of shape (4,) from each column of the 2D array using broadcasting."
   ]
  },
  {
   "cell_type": "code",
   "execution_count": 86,
   "id": "96319e4b",
   "metadata": {},
   "outputs": [
    {
     "name": "stdout",
     "output_type": "stream",
     "text": [
      "[[452 574 511 247]\n",
      " [979 698 921 206]\n",
      " [ 87 987 424 548]\n",
      " [976  19 852 866]]\n",
      "[ 63  98 110 564]\n",
      "[[ 389  511  448  184]\n",
      " [ 881  600  823  108]\n",
      " [ -23  877  314  438]\n",
      " [ 412 -545  288  302]]\n"
     ]
    }
   ],
   "source": [
    "array=np.random.randint(0,999,(4,4))\n",
    "print(array)\n",
    "new_array=np.random.randint(0,999,(4,))\n",
    "print(new_array)\n",
    "array=array-new_array[:,np.newaxis]\n",
    "print(array)"
   ]
  },
  {
   "cell_type": "markdown",
   "id": "d5f69b67",
   "metadata": {},
   "source": [
    "### Assignment 6: Linear Algebra\n",
    "\n",
    "1. Create a NumPy array of shape (3, 3) representing a matrix. Compute its determinant, inverse, and eigenvalues."
   ]
  },
  {
   "cell_type": "code",
   "execution_count": 93,
   "id": "4e6cf63b",
   "metadata": {},
   "outputs": [
    {
     "name": "stdout",
     "output_type": "stream",
     "text": [
      "[[3 2 3]\n",
      " [5 1 3]\n",
      " [4 1 2]]\n",
      "4.000000000000001\n",
      "[[-0.25 -0.25  0.75]\n",
      " [ 0.5  -1.5   1.5 ]\n",
      " [ 0.25  1.25 -1.75]]\n",
      "[ 7.84867407 -1.51149862 -0.33717545]\n"
     ]
    }
   ],
   "source": [
    "array=np.random.randint(0,9,(3,3))\n",
    "print(array)\n",
    "determinant=np.linalg.det(array)\n",
    "print(determinant)\n",
    "inverse_matrix=np.linalg.inv(array)\n",
    "print(inverse_matrix)\n",
    "eigenvalues_matrix=np.linalg.eigvals(array)\n",
    "print(eigenvalues_matrix)"
   ]
  },
  {
   "cell_type": "markdown",
   "id": "9cbae5b9",
   "metadata": {},
   "source": [
    "2. Create two NumPy arrays of shape (2, 3) and (3, 2). Perform matrix multiplication on these arrays."
   ]
  },
  {
   "cell_type": "code",
   "execution_count": 97,
   "id": "742b4d9c",
   "metadata": {},
   "outputs": [
    {
     "name": "stdout",
     "output_type": "stream",
     "text": [
      "[[2 0 1]\n",
      " [5 3 7]]\n",
      "[[8 6]\n",
      " [2 4]\n",
      " [0 3]]\n",
      "[[16 15]\n",
      " [46 63]]\n"
     ]
    }
   ],
   "source": [
    "arr1=np.random.randint(0,9,(2,3))\n",
    "arr2=np.random.randint(0,9,(3,2))\n",
    "print(arr1)\n",
    "print(arr2)\n",
    "multi_matrix=np.linalg.matmul(arr1,arr2)\n",
    "print(multi_matrix)"
   ]
  },
  {
   "cell_type": "markdown",
   "id": "f4c7ae3a",
   "metadata": {},
   "source": [
    "### Assignment 7: Advanced Array Manipulation\n",
    "\n",
    "1. Create a NumPy array of shape (3, 3) with values from 1 to 9. Reshape the array to shape (1, 9) and then to shape (9, 1)."
   ]
  },
  {
   "cell_type": "code",
   "execution_count": 100,
   "id": "7d359bcb",
   "metadata": {},
   "outputs": [
    {
     "name": "stdout",
     "output_type": "stream",
     "text": [
      "[[3 2 5]\n",
      " [6 2 2]\n",
      " [2 8 5]]\n",
      "[[3 2 5 6 2 2 2 8 5]]\n",
      "[[3]\n",
      " [2]\n",
      " [5]\n",
      " [6]\n",
      " [2]\n",
      " [2]\n",
      " [2]\n",
      " [8]\n",
      " [5]]\n"
     ]
    }
   ],
   "source": [
    "array=np.random.randint(1,9,(3,3))\n",
    "print(array)\n",
    "array=array.reshape((1,9))\n",
    "print(array)\n",
    "array=array.reshape(9,1)\n",
    "print(array)"
   ]
  },
  {
   "cell_type": "markdown",
   "id": "a59e858a",
   "metadata": {},
   "source": [
    "2. Create a NumPy array of shape (5, 5) filled with random integers. Flatten the array and then reshape it back to (5, 5)."
   ]
  },
  {
   "cell_type": "code",
   "execution_count": 101,
   "id": "a3d00545",
   "metadata": {},
   "outputs": [
    {
     "name": "stdout",
     "output_type": "stream",
     "text": [
      "[[3 2 2 6 4]\n",
      " [1 6 2 6 8]\n",
      " [6 6 8 7 5]\n",
      " [2 3 5 1 8]\n",
      " [1 4 8 8 1]]\n",
      "[3 2 2 6 4 1 6 2 6 8 6 6 8 7 5 2 3 5 1 8 1 4 8 8 1]\n",
      "[[3 2 2 6 4]\n",
      " [1 6 2 6 8]\n",
      " [6 6 8 7 5]\n",
      " [2 3 5 1 8]\n",
      " [1 4 8 8 1]]\n"
     ]
    }
   ],
   "source": [
    "array=np.random.randint(1,9,(5,5))\n",
    "print(array)\n",
    "array=array.flatten()\n",
    "print(array)\n",
    "array=array.reshape((5,5))\n",
    "print(array)"
   ]
  },
  {
   "cell_type": "markdown",
   "id": "b3c88939",
   "metadata": {},
   "source": [
    "### Assignment 8: Fancy Indexing and Boolean Indexing\n",
    "\n",
    "1. Create a NumPy array of shape (5, 5) filled with random integers. Use fancy indexing to extract the elements at the corners of the array."
   ]
  },
  {
   "cell_type": "code",
   "execution_count": 103,
   "id": "fdd688b0",
   "metadata": {},
   "outputs": [
    {
     "name": "stdout",
     "output_type": "stream",
     "text": [
      "[[4 6 1 6 8]\n",
      " [5 5 7 5 1]\n",
      " [8 3 5 7 6]\n",
      " [3 8 2 4 7]\n",
      " [7 8 7 3 3]]\n",
      "[4 3 8 7]\n"
     ]
    }
   ],
   "source": [
    "array=np.random.randint(1,9,(5,5))\n",
    "print(array)\n",
    "row_i=np.array([0,4,0,4])\n",
    "col_i=np.array([0,4,4,0])\n",
    "corners_array=array[row_i,col_i]\n",
    "print(corners_array)"
   ]
  },
  {
   "cell_type": "markdown",
   "id": "6a0f8eab",
   "metadata": {},
   "source": [
    "2. Create a NumPy array of shape (4, 4) filled with random integers. Use boolean indexing to set all elements greater than 10 to 10."
   ]
  },
  {
   "cell_type": "code",
   "execution_count": 106,
   "id": "a3a55bd1",
   "metadata": {},
   "outputs": [
    {
     "name": "stdout",
     "output_type": "stream",
     "text": [
      "[[35 77 47 18]\n",
      " [69 87  4 53]\n",
      " [49 76 27 68]\n",
      " [78 19 41 77]]\n",
      "[[10 10 10 10]\n",
      " [10 10  4 10]\n",
      " [10 10 10 10]\n",
      " [10 10 10 10]]\n"
     ]
    }
   ],
   "source": [
    "array=np.random.randint(1,99,(4,4))\n",
    "print(array)\n",
    "array[array>10]=10\n",
    "print(array)"
   ]
  },
  {
   "cell_type": "markdown",
   "id": "bbdba024",
   "metadata": {},
   "source": [
    "### Assignment 9: Structured Arrays\n",
    "\n",
    "1. Create a structured array with fields 'name' (string), 'age' (integer), and 'weight' (float). Add some data and sort the array by age."
   ]
  },
  {
   "cell_type": "code",
   "execution_count": 116,
   "id": "62241067",
   "metadata": {},
   "outputs": [
    {
     "name": "stdout",
     "output_type": "stream",
     "text": [
      "[('A', 55,  50.) ('B', 24, 137.) ('C', 73,  30.)]\n",
      "[('B', 24, 137.) ('A', 55,  50.) ('C', 73,  30.)]\n"
     ]
    }
   ],
   "source": [
    "dtype=[('name','U10'),('age','int'),('weight','float')]\n",
    "data=np.array([('A',55,50.0),('B',24,137.0),('C',73,30.0)],dtype=dtype)\n",
    "print(data)\n",
    "sorted_array=np.sort(data,order='age')\n",
    "print(sorted_array)\n"
   ]
  },
  {
   "cell_type": "markdown",
   "id": "83665ad7",
   "metadata": {},
   "source": [
    "2. Create a structured array with fields 'x' and 'y' (both integers). Add some data and compute the Euclidean distance between each pair of points."
   ]
  },
  {
   "cell_type": "code",
   "execution_count": 124,
   "id": "23ca2981",
   "metadata": {},
   "outputs": [
    {
     "name": "stdout",
     "output_type": "stream",
     "text": [
      "[(0, 0) (4, 4) (0, 4)]\n",
      "[[0.         2.82842712 5.65685425]\n",
      " [2.82842712 0.         2.82842712]\n",
      " [5.65685425 2.82842712 0.        ]]\n"
     ]
    }
   ],
   "source": [
    "dtype=[('x','int'),('y','int')]\n",
    "points=np.array([(0,0),(4,4),(0,4)],dtype=dtype)\n",
    "print(points)\n",
    "distance=np.sqrt((data['x'][:,np.newaxis]-data['x'])**2+(data['y'][:,np.newaxis]-data['y'])**2)\n",
    "print(distance)"
   ]
  },
  {
   "cell_type": "markdown",
   "id": "c9733bcb",
   "metadata": {},
   "source": [
    "### Assignment 10: Masked Arrays\n",
    "\n",
    "1. Create a masked array of shape (4, 4) with random integers and mask the elements greater than 10. Compute the sum of the unmasked elements."
   ]
  },
  {
   "cell_type": "code",
   "execution_count": 137,
   "id": "4616e037",
   "metadata": {},
   "outputs": [
    {
     "name": "stdout",
     "output_type": "stream",
     "text": [
      "[[11  0  9 19]\n",
      " [ 6  4  6  2]\n",
      " [ 7  1  2 13]\n",
      " [15  7  2 12]]\n",
      "[[-- 0 9 --]\n",
      " [6 4 6 2]\n",
      " [7 1 2 --]\n",
      " [-- 7 2 --]]\n",
      "46\n"
     ]
    }
   ],
   "source": [
    "array=np.random.randint(0,20,(4,4))\n",
    "print(array)\n",
    "masked_array=np.ma.masked_greater(array,10)\n",
    "print(masked_array)\n",
    "summa=masked_array.sum()\n",
    "print(summa)"
   ]
  },
  {
   "cell_type": "markdown",
   "id": "b0f3c924",
   "metadata": {},
   "source": [
    "2. Create a masked array of shape (3, 3) with random integers and mask the diagonal elements. Replace the masked elements with the mean of the unmasked elements."
   ]
  },
  {
   "cell_type": "code",
   "execution_count": 11,
   "id": "0305bbc4",
   "metadata": {},
   "outputs": [
    {
     "name": "stdout",
     "output_type": "stream",
     "text": [
      "[[11  7 12]\n",
      " [ 1  5  9]\n",
      " [13  7 16]]\n",
      "[[-- 7 12]\n",
      " [1 -- 9]\n",
      " [13 7 --]]\n",
      "[[ 8  7 12]\n",
      " [ 1  8  9]\n",
      " [13  7  8]]\n"
     ]
    }
   ],
   "source": [
    "array=np.random.randint(0,20,(3,3))\n",
    "print(array)\n",
    "masked_array=np.ma.masked_array(array,mask=np.eye(3),fill_value=-999)\n",
    "print(masked_array)\n",
    "filled_array=masked_array.filled(fill_value=np.mean(masked_array))\n",
    "print(filled_array)"
   ]
  }
 ],
 "metadata": {
  "kernelspec": {
   "display_name": "Python 3",
   "language": "python",
   "name": "python3"
  },
  "language_info": {
   "codemirror_mode": {
    "name": "ipython",
    "version": 3
   },
   "file_extension": ".py",
   "mimetype": "text/x-python",
   "name": "python",
   "nbconvert_exporter": "python",
   "pygments_lexer": "ipython3",
   "version": "3.12.0"
  }
 },
 "nbformat": 4,
 "nbformat_minor": 5
}
